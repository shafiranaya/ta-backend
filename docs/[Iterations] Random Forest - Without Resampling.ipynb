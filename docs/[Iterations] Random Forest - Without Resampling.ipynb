{
 "cells": [
  {
   "cell_type": "code",
   "execution_count": 1,
   "metadata": {
    "id": "qz8knwF-VxFi"
   },
   "outputs": [],
   "source": [
    "import pandas as pd\n",
    "import matplotlib.pyplot as plt\n",
    "import numpy as np\n",
    "import seaborn as sns\n",
    "import re\n",
    "from sklearn.preprocessing import MinMaxScaler, OneHotEncoder\n",
    "import time\n",
    "\n",
    "# Models\n",
    "from sklearn.linear_model import LogisticRegression\n",
    "from sklearn.svm import SVC\n",
    "from sklearn.tree import DecisionTreeClassifier\n",
    "from sklearn.ensemble import RandomForestClassifier\n",
    "\n",
    "# For resampling\n",
    "from collections import Counter\n",
    "from sklearn.datasets import make_classification\n",
    "# from imblearn.over_sampling import SMOTE, SMOTENC, SMOTEN, ADASYN, RandomOverSampler\n",
    "# from imblearn.under_sampling import NearMiss, RandomUnderSampler\n",
    "# from imblearn.combine import SMOTEENN\n",
    "from sklearn.utils import resample\n",
    "\n",
    "# Ensemble Classifiers\n",
    "from sklearn.ensemble import VotingClassifier, StackingClassifier\n",
    "\n",
    "# Hyperparameter Tuning\n",
    "from sklearn.model_selection import GridSearchCV, cross_val_score, train_test_split, KFold\n",
    "\n",
    "# Evaluation\n",
    "from sklearn.metrics import accuracy_score, precision_score, recall_score, f1_score, roc_curve, auc, roc_auc_score, log_loss, classification_report, confusion_matrix\n",
    "\n",
    "# from xgboost import plot_importance, to_graphviz\n",
    "\n",
    "# from google.colab import files"
   ]
  },
  {
   "cell_type": "code",
   "execution_count": 2,
   "metadata": {
    "id": "p33D0MljmXB1"
   },
   "outputs": [],
   "source": [
    "# from google.colab import auth, drive\n",
    "# from google.auth import default"
   ]
  },
  {
   "cell_type": "code",
   "execution_count": 3,
   "metadata": {
    "colab": {
     "base_uri": "https://localhost:8080/"
    },
    "id": "pMBZd1lCmbN_",
    "outputId": "1a8fd5ee-4519-44bc-f050-ea490ec6aa2e"
   },
   "outputs": [],
   "source": [
    "# drive.mount('/content/drive',force_remount=True)"
   ]
  },
  {
   "cell_type": "markdown",
   "metadata": {
    "id": "a5rNCI-nH6o9"
   },
   "source": [
    "### Dataset"
   ]
  },
  {
   "cell_type": "code",
   "execution_count": 4,
   "metadata": {
    "id": "rMLy4xPTWgUs"
   },
   "outputs": [],
   "source": [
    "# drive_path = '/content/drive/MyDrive/TA/Dataset/'\n",
    "drive_path = '../dataset/'\n",
    "dataset_name = 'data_b'\n",
    "df = pd.read_csv(drive_path + dataset_name + '.csv')"
   ]
  },
  {
   "cell_type": "code",
   "execution_count": 5,
   "metadata": {
    "colab": {
     "base_uri": "https://localhost:8080/",
     "height": 270
    },
    "id": "Iw8zHrcCXi_a",
    "outputId": "dbdfeee1-e49b-4c53-aaa0-523609ae888a"
   },
   "outputs": [
    {
     "data": {
      "text/html": [
       "<div>\n",
       "<style scoped>\n",
       "    .dataframe tbody tr th:only-of-type {\n",
       "        vertical-align: middle;\n",
       "    }\n",
       "\n",
       "    .dataframe tbody tr th {\n",
       "        vertical-align: top;\n",
       "    }\n",
       "\n",
       "    .dataframe thead th {\n",
       "        text-align: right;\n",
       "    }\n",
       "</style>\n",
       "<table border=\"1\" class=\"dataframe\">\n",
       "  <thead>\n",
       "    <tr style=\"text-align: right;\">\n",
       "      <th></th>\n",
       "      <th>account_id</th>\n",
       "      <th>label</th>\n",
       "      <th>is_phone_number_verified</th>\n",
       "      <th>is_email_verified</th>\n",
       "      <th>is_reseller_flag</th>\n",
       "      <th>email_category_gmail</th>\n",
       "      <th>email_category_hotmail</th>\n",
       "      <th>email_category_icloud</th>\n",
       "      <th>email_category_live</th>\n",
       "      <th>email_category_others</th>\n",
       "      <th>...</th>\n",
       "      <th>promo_amount</th>\n",
       "      <th>category_f_order_count</th>\n",
       "      <th>category_f_order_count_with_promo</th>\n",
       "      <th>category_f_price_amount</th>\n",
       "      <th>category_f_promo_amount</th>\n",
       "      <th>similar_name_count</th>\n",
       "      <th>similar_email_count</th>\n",
       "      <th>similar_phone_number_count</th>\n",
       "      <th>similar_device_count</th>\n",
       "      <th>similar_birth_date_count</th>\n",
       "    </tr>\n",
       "  </thead>\n",
       "  <tbody>\n",
       "    <tr>\n",
       "      <th>0</th>\n",
       "      <td>34634632</td>\n",
       "      <td>1</td>\n",
       "      <td>1</td>\n",
       "      <td>0</td>\n",
       "      <td>False</td>\n",
       "      <td>1.0</td>\n",
       "      <td>0.0</td>\n",
       "      <td>0.0</td>\n",
       "      <td>0.0</td>\n",
       "      <td>0.0</td>\n",
       "      <td>...</td>\n",
       "      <td>0.0</td>\n",
       "      <td>0.0</td>\n",
       "      <td>0.0</td>\n",
       "      <td>0.0</td>\n",
       "      <td>0.0</td>\n",
       "      <td>0.0</td>\n",
       "      <td>0.0</td>\n",
       "      <td>0.0</td>\n",
       "      <td>0.0</td>\n",
       "      <td>0.000000</td>\n",
       "    </tr>\n",
       "    <tr>\n",
       "      <th>1</th>\n",
       "      <td>27536039</td>\n",
       "      <td>0</td>\n",
       "      <td>1</td>\n",
       "      <td>0</td>\n",
       "      <td>False</td>\n",
       "      <td>1.0</td>\n",
       "      <td>0.0</td>\n",
       "      <td>0.0</td>\n",
       "      <td>0.0</td>\n",
       "      <td>0.0</td>\n",
       "      <td>...</td>\n",
       "      <td>0.0</td>\n",
       "      <td>0.0</td>\n",
       "      <td>0.0</td>\n",
       "      <td>0.0</td>\n",
       "      <td>0.0</td>\n",
       "      <td>0.0</td>\n",
       "      <td>0.0</td>\n",
       "      <td>0.0</td>\n",
       "      <td>0.0</td>\n",
       "      <td>0.088889</td>\n",
       "    </tr>\n",
       "    <tr>\n",
       "      <th>2</th>\n",
       "      <td>29164748</td>\n",
       "      <td>0</td>\n",
       "      <td>0</td>\n",
       "      <td>0</td>\n",
       "      <td>False</td>\n",
       "      <td>0.0</td>\n",
       "      <td>0.0</td>\n",
       "      <td>0.0</td>\n",
       "      <td>0.0</td>\n",
       "      <td>0.0</td>\n",
       "      <td>...</td>\n",
       "      <td>0.0</td>\n",
       "      <td>0.0</td>\n",
       "      <td>0.0</td>\n",
       "      <td>0.0</td>\n",
       "      <td>0.0</td>\n",
       "      <td>0.0</td>\n",
       "      <td>0.0</td>\n",
       "      <td>0.0</td>\n",
       "      <td>0.0</td>\n",
       "      <td>0.000000</td>\n",
       "    </tr>\n",
       "    <tr>\n",
       "      <th>3</th>\n",
       "      <td>28115239</td>\n",
       "      <td>0</td>\n",
       "      <td>1</td>\n",
       "      <td>0</td>\n",
       "      <td>False</td>\n",
       "      <td>1.0</td>\n",
       "      <td>0.0</td>\n",
       "      <td>0.0</td>\n",
       "      <td>0.0</td>\n",
       "      <td>0.0</td>\n",
       "      <td>...</td>\n",
       "      <td>0.0</td>\n",
       "      <td>0.0</td>\n",
       "      <td>0.0</td>\n",
       "      <td>0.0</td>\n",
       "      <td>0.0</td>\n",
       "      <td>0.0</td>\n",
       "      <td>0.0</td>\n",
       "      <td>0.0</td>\n",
       "      <td>0.0</td>\n",
       "      <td>0.000000</td>\n",
       "    </tr>\n",
       "    <tr>\n",
       "      <th>4</th>\n",
       "      <td>33491857</td>\n",
       "      <td>0</td>\n",
       "      <td>1</td>\n",
       "      <td>0</td>\n",
       "      <td>False</td>\n",
       "      <td>1.0</td>\n",
       "      <td>0.0</td>\n",
       "      <td>0.0</td>\n",
       "      <td>0.0</td>\n",
       "      <td>0.0</td>\n",
       "      <td>...</td>\n",
       "      <td>0.0</td>\n",
       "      <td>0.0</td>\n",
       "      <td>0.0</td>\n",
       "      <td>0.0</td>\n",
       "      <td>0.0</td>\n",
       "      <td>0.0</td>\n",
       "      <td>0.0</td>\n",
       "      <td>0.0</td>\n",
       "      <td>0.0</td>\n",
       "      <td>0.000000</td>\n",
       "    </tr>\n",
       "  </tbody>\n",
       "</table>\n",
       "<p>5 rows × 33 columns</p>\n",
       "</div>"
      ],
      "text/plain": [
       "   account_id  label  is_phone_number_verified  is_email_verified  \\\n",
       "0    34634632      1                         1                  0   \n",
       "1    27536039      0                         1                  0   \n",
       "2    29164748      0                         0                  0   \n",
       "3    28115239      0                         1                  0   \n",
       "4    33491857      0                         1                  0   \n",
       "\n",
       "   is_reseller_flag  email_category_gmail  email_category_hotmail  \\\n",
       "0             False                   1.0                     0.0   \n",
       "1             False                   1.0                     0.0   \n",
       "2             False                   0.0                     0.0   \n",
       "3             False                   1.0                     0.0   \n",
       "4             False                   1.0                     0.0   \n",
       "\n",
       "   email_category_icloud  email_category_live  email_category_others  ...  \\\n",
       "0                    0.0                  0.0                    0.0  ...   \n",
       "1                    0.0                  0.0                    0.0  ...   \n",
       "2                    0.0                  0.0                    0.0  ...   \n",
       "3                    0.0                  0.0                    0.0  ...   \n",
       "4                    0.0                  0.0                    0.0  ...   \n",
       "\n",
       "   promo_amount  category_f_order_count  category_f_order_count_with_promo  \\\n",
       "0           0.0                     0.0                                0.0   \n",
       "1           0.0                     0.0                                0.0   \n",
       "2           0.0                     0.0                                0.0   \n",
       "3           0.0                     0.0                                0.0   \n",
       "4           0.0                     0.0                                0.0   \n",
       "\n",
       "   category_f_price_amount  category_f_promo_amount  similar_name_count  \\\n",
       "0                      0.0                      0.0                 0.0   \n",
       "1                      0.0                      0.0                 0.0   \n",
       "2                      0.0                      0.0                 0.0   \n",
       "3                      0.0                      0.0                 0.0   \n",
       "4                      0.0                      0.0                 0.0   \n",
       "\n",
       "   similar_email_count  similar_phone_number_count  similar_device_count  \\\n",
       "0                  0.0                         0.0                   0.0   \n",
       "1                  0.0                         0.0                   0.0   \n",
       "2                  0.0                         0.0                   0.0   \n",
       "3                  0.0                         0.0                   0.0   \n",
       "4                  0.0                         0.0                   0.0   \n",
       "\n",
       "   similar_birth_date_count  \n",
       "0                  0.000000  \n",
       "1                  0.088889  \n",
       "2                  0.000000  \n",
       "3                  0.000000  \n",
       "4                  0.000000  \n",
       "\n",
       "[5 rows x 33 columns]"
      ]
     },
     "execution_count": 5,
     "metadata": {},
     "output_type": "execute_result"
    }
   ],
   "source": [
    "df.head()"
   ]
  },
  {
   "cell_type": "code",
   "execution_count": 6,
   "metadata": {
    "colab": {
     "base_uri": "https://localhost:8080/"
    },
    "id": "vw6cy2RqXlTx",
    "outputId": "cecb32bf-f78a-419c-c94d-273d0e520e22"
   },
   "outputs": [
    {
     "name": "stdout",
     "output_type": "stream",
     "text": [
      "<class 'pandas.core.frame.DataFrame'>\n",
      "RangeIndex: 71544 entries, 0 to 71543\n",
      "Data columns (total 33 columns):\n",
      " #   Column                             Non-Null Count  Dtype  \n",
      "---  ------                             --------------  -----  \n",
      " 0   account_id                         71544 non-null  int64  \n",
      " 1   label                              71544 non-null  int64  \n",
      " 2   is_phone_number_verified           71544 non-null  int64  \n",
      " 3   is_email_verified                  71544 non-null  int64  \n",
      " 4   is_reseller_flag                   71544 non-null  bool   \n",
      " 5   email_category_gmail               71544 non-null  float64\n",
      " 6   email_category_hotmail             71544 non-null  float64\n",
      " 7   email_category_icloud              71544 non-null  float64\n",
      " 8   email_category_live                71544 non-null  float64\n",
      " 9   email_category_others              71544 non-null  float64\n",
      " 10  email_category_outlook             71544 non-null  float64\n",
      " 11  email_category_rocketmail          71544 non-null  float64\n",
      " 12  email_category_yahoo               71544 non-null  float64\n",
      " 13  email_category_ymail               71544 non-null  float64\n",
      " 14  first_transaction_category_c       71544 non-null  float64\n",
      " 15  first_transaction_category_e       71544 non-null  float64\n",
      " 16  first_transaction_category_f       71544 non-null  float64\n",
      " 17  first_transaction_category_h       71544 non-null  float64\n",
      " 18  first_transaction_category_t       71544 non-null  float64\n",
      " 19  day_to_first_transaction           71544 non-null  float64\n",
      " 20  order_count                        71544 non-null  float64\n",
      " 21  order_count_with_promo             71544 non-null  float64\n",
      " 22  price_amount                       71544 non-null  float64\n",
      " 23  promo_amount                       71544 non-null  float64\n",
      " 24  category_f_order_count             71544 non-null  float64\n",
      " 25  category_f_order_count_with_promo  71544 non-null  float64\n",
      " 26  category_f_price_amount            71544 non-null  float64\n",
      " 27  category_f_promo_amount            71544 non-null  float64\n",
      " 28  similar_name_count                 71544 non-null  float64\n",
      " 29  similar_email_count                71544 non-null  float64\n",
      " 30  similar_phone_number_count         71544 non-null  float64\n",
      " 31  similar_device_count               71544 non-null  float64\n",
      " 32  similar_birth_date_count           71544 non-null  float64\n",
      "dtypes: bool(1), float64(28), int64(4)\n",
      "memory usage: 17.5 MB\n"
     ]
    }
   ],
   "source": [
    "df.info()"
   ]
  },
  {
   "cell_type": "code",
   "execution_count": 7,
   "metadata": {
    "colab": {
     "base_uri": "https://localhost:8080/"
    },
    "id": "0OsjS9iuxOxH",
    "outputId": "26f04d86-b5e0-478e-bc5d-65e1bccae9a3"
   },
   "outputs": [
    {
     "data": {
      "text/plain": [
       "0    68416\n",
       "1     3128\n",
       "Name: label, dtype: int64"
      ]
     },
     "execution_count": 7,
     "metadata": {},
     "output_type": "execute_result"
    }
   ],
   "source": [
    "df['label'].value_counts()"
   ]
  },
  {
   "cell_type": "code",
   "execution_count": 8,
   "metadata": {
    "colab": {
     "base_uri": "https://localhost:8080/"
    },
    "id": "kN1FbuDowM8A",
    "outputId": "a1b4ffc1-8996-4f23-8e8b-88c82f539d76"
   },
   "outputs": [
    {
     "data": {
      "text/plain": [
       "0    0.956279\n",
       "1    0.043721\n",
       "Name: label, dtype: float64"
      ]
     },
     "execution_count": 8,
     "metadata": {},
     "output_type": "execute_result"
    }
   ],
   "source": [
    "df['label'].value_counts(normalize=True)"
   ]
  },
  {
   "cell_type": "markdown",
   "metadata": {
    "id": "lGtWYlunCReA"
   },
   "source": [
    "## Splitting the data"
   ]
  },
  {
   "cell_type": "code",
   "execution_count": 9,
   "metadata": {
    "id": "vP4Nwy5eIBaA"
   },
   "outputs": [],
   "source": [
    "# Separate features (X) and target variable (y)\n",
    "X = df.drop(['label','account_id'], axis=1)\n",
    "y = df['label']\n"
   ]
  },
  {
   "cell_type": "code",
   "execution_count": null,
   "metadata": {
    "id": "T05DKwpOw7GY"
   },
   "outputs": [],
   "source": []
  },
  {
   "cell_type": "code",
   "execution_count": 10,
   "metadata": {
    "id": "776gNRr3Kyit"
   },
   "outputs": [],
   "source": [
    "# print(len(X_train.columns))\n",
    "# print(len(X_val.columns))\n",
    "# print(len(X_test.columns))\n",
    "# print(len(X_test_imbalanced.columns))"
   ]
  },
  {
   "cell_type": "code",
   "execution_count": 11,
   "metadata": {
    "id": "TMY3TEjjLJdW"
   },
   "outputs": [],
   "source": [
    "# print(len(y_train))\n",
    "# print(len(y_val))\n",
    "# print(len(y_test))\n",
    "# print(len(y_test_imbalanced))"
   ]
  },
  {
   "cell_type": "code",
   "execution_count": 12,
   "metadata": {
    "id": "y1NDznUibb2I"
   },
   "outputs": [],
   "source": [
    "# y_train.value_counts()"
   ]
  },
  {
   "cell_type": "code",
   "execution_count": 13,
   "metadata": {
    "id": "b3OfbSfIbgB_"
   },
   "outputs": [],
   "source": [
    "# y_val.value_counts()"
   ]
  },
  {
   "cell_type": "code",
   "execution_count": 14,
   "metadata": {
    "id": "ZrkESd8DbiXm"
   },
   "outputs": [],
   "source": [
    "# y_test.value_counts()"
   ]
  },
  {
   "cell_type": "code",
   "execution_count": 15,
   "metadata": {
    "id": "fmoeKPjjIMi5"
   },
   "outputs": [],
   "source": [
    "# y_test_imbalanced.value_counts()"
   ]
  },
  {
   "cell_type": "markdown",
   "metadata": {
    "id": "-b5t7El9po9b"
   },
   "source": [
    "# Functions"
   ]
  },
  {
   "cell_type": "code",
   "execution_count": 16,
   "metadata": {
    "id": "FqOR2TkY0U3I"
   },
   "outputs": [],
   "source": [
    "def print_classification_metrics(y_true, y_pred):\n",
    "    # Compute the accuracy\n",
    "    accuracy = accuracy_score(y_true, y_pred)\n",
    "    print(\"Accuracy: {:.3f}\".format(accuracy))\n",
    "    # Compute the precision\n",
    "    precision = precision_score(y_true, y_pred)\n",
    "    print(\"Precision: {:.3f}\".format(precision))\n",
    "    # Compute the recall or sensitivity\n",
    "    recall = recall_score(y_true, y_pred)\n",
    "    print(\"Recall: {:.3f}\".format(recall))\n",
    "    # Compute the F1 score\n",
    "    f1 = f1_score(y_true, y_pred)\n",
    "    print(\"F1 score: {:.3f}\".format(f1))\n",
    "    # Compute the roc auc score\n",
    "    auc = roc_auc_score(y_true,y_pred)\n",
    "    print(\"AUC score: {:.3f}\".format(auc))\n",
    "    # Compute the log lossscore\n",
    "    loss = log_loss(y_true,y_pred)\n",
    "    print(\"Log loss: {:.3f}\".format(loss))\n",
    "\n",
    "    # Assume y_true and y_pred are the true and predicted labels for a binary classification problem\n",
    "    tn, fp, fn, tp = confusion_matrix(y_true, y_pred).ravel()\n",
    "    # Calculate TPR and TNR\n",
    "    tpr = tp / (tp + fn) # Sensitivity\n",
    "    tnr = tn / (tn + fp) # Specificity\n",
    "    # Calculate G-mean\n",
    "    gmean = np.sqrt(tpr * tnr)\n",
    "    print(\"G-mean: {:.3f}\".format(gmean))\n",
    "\n",
    "    print(\"Specificity: {:.3f}\".format(tnr))\n",
    "\n",
    "    # Print classification report and G-mean\n",
    "    print(classification_report(y_true, y_pred))\n",
    "    \n",
    "    print(\"{:.3f}\\t{:.3f}\\t{:.3f}\\t{:.3f}\\t{:.3f}\\t{:.3f}\\t{:.3f}\".format(accuracy,precision,recall,f1,auc,loss,tnr))\n",
    "\n",
    "    print(confusion_matrix(y_true,y_pred))"
   ]
  },
  {
   "cell_type": "code",
   "execution_count": 17,
   "metadata": {
    "id": "0PSidu9KOKAH"
   },
   "outputs": [],
   "source": [
    "def train_and_evaluate_model(model, X, y, random_state):\n",
    "    ### SPLITTING THE DATA ###\n",
    "    # Separate minority and majority classes\n",
    "    minority_class = df[df['label'] == 1]\n",
    "    majority_class = df[df['label'] == 0]\n",
    "\n",
    "    # # Undersample majority class\n",
    "    # undersampled_majority_class = resample(majority_class, \n",
    "    #                                       replace=False, \n",
    "    #                                       n_samples=len(minority_class),\n",
    "    #                                       )\n",
    "\n",
    "    # # Combine minority class with undersampled majority class\n",
    "    # undersampled_data = pd.concat([minority_class, undersampled_majority_class])\n",
    "\n",
    "    # # Split the undersampled data into training, validation, and test sets\n",
    "    # X_undersampled = undersampled_data.drop(['label','account_id'], axis=1)\n",
    "    # y_undersampled = undersampled_data['label']\n",
    "\n",
    "    X_train, X_test, y_train, y_test = train_test_split(X, y, test_size=0.2, random_state = random_state)\n",
    "    X_train, X_val, y_train, y_val = train_test_split(X_train, y_train, test_size=0.25, random_state = random_state)\n",
    "\n",
    "    # Print the number of examples in each set\n",
    "    print(\"Number of examples in the training set: \", len(X_train))\n",
    "    print(\"Number of examples in the validation set: \", len(X_val))\n",
    "    print(\"Number of examples in the test set: \", len(X_test))\n",
    "  \n",
    "    # Calculate the desired number of samples for each class based on the proportion in the test dataset\n",
    "    desired_majority_samples = int(len(X_test) * 0.90)\n",
    "    desired_minority_samples = int(len(X_test) * 0.10)\n",
    "\n",
    "    # Resample the majority class in the test dataset\n",
    "    resampled_majority_class = resample(majority_class,\n",
    "                                        replace=True,\n",
    "                                        n_samples=desired_majority_samples,\n",
    "                                        random_state = random_state\n",
    "                                        )\n",
    "\n",
    "    # Sample the minority class in the test dataset\n",
    "    sampled_minority_class = resample(minority_class,\n",
    "                                      replace=True,\n",
    "                                      n_samples=desired_minority_samples,\n",
    "                                      random_state = random_state\n",
    "                                      )\n",
    "\n",
    "    test_imbalanced = pd.concat([resampled_majority_class, sampled_minority_class])\n",
    "    X_test_imbalanced = test_imbalanced.drop(['label', 'account_id'], axis=1)\n",
    "    y_test_imbalanced= test_imbalanced['label']\n",
    "\n",
    "    # Print the number of examples in each class in the imbalanced test dataset\n",
    "    print(\"Number of examples in the imbalanced test dataset (label 0):\", len(y_test_imbalanced[y_test_imbalanced == 0]))\n",
    "    print(\"Number of examples in the imbalanced test dataset (label 1):\", len(y_test_imbalanced[y_test_imbalanced == 1]))\n",
    "      \n",
    "    ### MODELLING ###\n",
    "    start_training_time = time.time()\n",
    "    model.fit(X_train, y_train)\n",
    "    stop_training_time = time.time()\n",
    "    training_time = stop_training_time - start_training_time\n",
    "\n",
    "    ### RESULTS ###\n",
    "    ## Val\n",
    "    start_pred_val = time.time()\n",
    "    y_pred_val = model.predict(X_val)\n",
    "    stop_pred_val = time.time()\n",
    "    pred_val_time = stop_pred_val - start_pred_val\n",
    "\n",
    "    accuracy_val = accuracy_score(y_val, y_pred_val)\n",
    "    precision_val = precision_score(y_val, y_pred_val)\n",
    "    recall_val = recall_score(y_val, y_pred_val)\n",
    "    f1_val = f1_score(y_val, y_pred_val)\n",
    "    auc_val = roc_auc_score(y_val,y_pred_val)\n",
    "    loss_val = log_loss(y_val,y_pred_val)\n",
    "    # Assume y_val and y_pred are the true and predicted labels for a binary classification problem\n",
    "    tn_val, fp_val, fn_val, tp_val = confusion_matrix(y_val, y_pred_val).ravel()\n",
    "    # Calculate TPR and TNR\n",
    "    tpr_val = tp_val / (tp_val + fn_val) # Sensitivity\n",
    "    tnr_val = tn_val / (tn_val + fp_val) # Specificity\n",
    "    # Calculate G-mean\n",
    "    gmean_val = np.sqrt(tpr_val * tnr_val) \n",
    "    ## Test\n",
    "    start_pred_test = time.time()\n",
    "    y_pred_test = model.predict(X_test)\n",
    "    stop_pred_test = time.time()\n",
    "    pred_test_time = stop_pred_test - start_pred_test\n",
    "\n",
    "    accuracy_test = accuracy_score(y_test, y_pred_test)\n",
    "    precision_test = precision_score(y_test, y_pred_test)\n",
    "    recall_test = recall_score(y_test, y_pred_test)\n",
    "    f1_test = f1_score(y_test, y_pred_test)\n",
    "    auc_test = roc_auc_score(y_test,y_pred_test)\n",
    "    loss_test = log_loss(y_test,y_pred_test)\n",
    "    # Assume y_test and y_pred are the true and predicted labels for a binary classification problem\n",
    "    tn_test, fp_test, fn_test, tp_test = confusion_matrix(y_test, y_pred_test).ravel()\n",
    "    # Calculate TPR and TNR\n",
    "    tpr_test = tp_test / (tp_test + fn_test) # Sensitivity\n",
    "    tnr_test = tn_test / (tn_test + fp_test) # Specificity\n",
    "    # Calculate G-mean\n",
    "    gmean_test = np.sqrt(tpr_test * tnr_test)\n",
    "    \n",
    "    ## test imbalanced\n",
    "    start_pred_test_imbalanced = time.time()\n",
    "    y_pred_test_imbalanced = model.predict(X_test_imbalanced)\n",
    "    stop_pred_test_imbalanced = time.time()\n",
    "    pred_test_imbalanced_time = stop_pred_test_imbalanced - start_pred_test_imbalanced\n",
    "\n",
    "    accuracy_test_imbalanced = accuracy_score(y_test_imbalanced, y_pred_test_imbalanced)\n",
    "    precision_test_imbalanced = precision_score(y_test_imbalanced, y_pred_test_imbalanced)\n",
    "    recall_test_imbalanced = recall_score(y_test_imbalanced, y_pred_test_imbalanced)\n",
    "    f1_test_imbalanced = f1_score(y_test_imbalanced, y_pred_test_imbalanced)\n",
    "    auc_test_imbalanced = roc_auc_score(y_test_imbalanced,y_pred_test_imbalanced)\n",
    "    loss_test_imbalanced = log_loss(y_test_imbalanced,y_pred_test_imbalanced)\n",
    "    # Assume y_test_imbalanced and y_pred are the true and predicted labels for a binary classification problem\n",
    "    tn_test_imbalanced, fp_test_imbalanced, fn_test_imbalanced, tp_test_imbalanced = confusion_matrix(y_test_imbalanced, y_pred_test_imbalanced).ravel()\n",
    "    # Calculate TPR and TNR\n",
    "    tpr_test_imbalanced = tp_test_imbalanced / (tp_test_imbalanced + fn_test_imbalanced) # Sensitivity\n",
    "    tnr_test_imbalanced = tn_test_imbalanced / (tn_test_imbalanced + fp_test_imbalanced) # Specificity\n",
    "    # Calculate G-mean\n",
    "    gmean_test_imbalanced = np.sqrt(tpr_test_imbalanced * tnr_test_imbalanced) \n",
    "\n",
    "    print(confusion_matrix(y_test_imbalanced,y_pred_test_imbalanced))\n",
    "    val_results = [accuracy_val, precision_val, recall_val, f1_val, auc_val, loss_val, tnr_val]\n",
    "    test_results = [accuracy_test, precision_test, recall_test, f1_test, auc_test, loss_test, tnr_test]\n",
    "    test_imbalanced_results = [accuracy_test_imbalanced, precision_test_imbalanced, recall_test_imbalanced, f1_test_imbalanced, auc_test_imbalanced, loss_test_imbalanced, tnr_test_imbalanced]\n",
    "\n",
    "    time_results = [training_time, pred_val_time, pred_test_time, pred_test_imbalanced_time]\n",
    "    return val_results, test_results, test_imbalanced_results, time_results\n",
    "    # return accuracy, precision, recall, f1, auc, loss, tnr   "
   ]
  },
  {
   "cell_type": "code",
   "execution_count": 18,
   "metadata": {
    "id": "kXQqS7aaQvg1"
   },
   "outputs": [],
   "source": [
    "def run_iterations(model, X, y, iterations=5):\n",
    "    results = []\n",
    "    random_state = [12,23,34,45,56]\n",
    "    for i in range(len(random_state)):\n",
    "        val_results, test_results, test_imbalanced_results, time_results = train_and_evaluate_model(model, X, y, random_state[i])\n",
    "        concatted_results = val_results + test_results + test_imbalanced_results + time_results\n",
    "    \n",
    "        results.append(concatted_results)\n",
    "\n",
    "    columns = ['Val Accuracy', 'Val Precision', 'Val Recall', 'Val F1', 'Val AUC', 'Val Loss', 'Val Specificity',\n",
    "               'Test Accuracy', 'Test Precision', 'Test Recall', 'Test F1', 'Test AUC', 'Test Loss', 'Test Specificity',\n",
    "               'Test Imbalanced Accuracy', 'Test Imbalanced Precision', 'Test Imbalanced Recall', 'Test Imbalanced F1', 'Test Imbalanced AUC', 'Test Imbalanced Loss', 'Test Imbalanced Specificity',\n",
    "               'Training Time', 'Pred Val Time', 'Pred Test Time', 'Pred Test Imbalanced Time'\n",
    "               ]\n",
    "    df = pd.DataFrame(results, columns=columns)\n",
    "#     print(df)\n",
    "    stats = df.describe().loc[['mean']]\n",
    "    # stats = df.describe()\n",
    "    print(stats)\n",
    "    return stats.to_csv(sep='\\t')"
   ]
  },
  {
   "cell_type": "code",
   "execution_count": 19,
   "metadata": {
    "id": "4E5IscywJnxD"
   },
   "outputs": [],
   "source": [
    "# def train_and_evaluate_model(model, X_train, y_train, X_test, y_test):\n",
    "#     model.fit(X_train, y_train)\n",
    "#     y_pred = model.predict(X_test)\n",
    "#     accuracy = accuracy_score(y_test, y_pred)\n",
    "#     precision = precision_score(y_test, y_pred)\n",
    "#     recall = recall_score(y_test, y_pred)\n",
    "#     f1 = f1_score(y_test, y_pred)\n",
    "#     auc = roc_auc_score(y_test,y_pred)\n",
    "#     loss = log_loss(y_test,y_pred)\n",
    "#     # Assume y_test and y_pred are the true and predicted labels for a binary classification problem\n",
    "#     tn, fp, fn, tp = confusion_matrix(y_test, y_pred).ravel()\n",
    "#     # Calculate TPR and TNR\n",
    "#     tpr = tp / (tp + fn) # Sensitivity\n",
    "#     tnr = tn / (tn + fp) # Specificity\n",
    "#     # Calculate G-mean\n",
    "#     gmean = np.sqrt(tpr * tnr)\n",
    "#     return accuracy, precision, recall, f1, auc, loss, tnr    "
   ]
  },
  {
   "cell_type": "code",
   "execution_count": 20,
   "metadata": {
    "id": "ud_rXwDLLSzq"
   },
   "outputs": [],
   "source": [
    "# def run_iterations(model, X_train, y_train, X_test, y_test, iterations=5):\n",
    "#     results = []\n",
    "#     for i in range(iterations):\n",
    "#         accuracy, precision, recall, f1, auc, loss, tnr = train_and_evaluate_model(model, X_train, y_train, X_test, y_test)\n",
    "#         results.append([accuracy, precision, recall, f1, auc, loss, tnr])\n",
    "#     columns = ['Accuracy', 'Precision', 'Recall', 'F1', 'AUC', 'Loss', 'Specificity']\n",
    "#     df = pd.DataFrame(results, columns=columns)\n",
    "#     print(df)\n",
    "#     median = df.median()\n",
    "#     return median.to_csv(sep='\\t')"
   ]
  },
  {
   "cell_type": "code",
   "execution_count": 21,
   "metadata": {
    "id": "zlsQKnxQIs3_"
   },
   "outputs": [],
   "source": [
    "def plot_auc(y_true, y_scores):\n",
    "    fpr, tpr, thresholds = roc_curve(y_true, y_scores)\n",
    "    roc_auc = auc(fpr, tpr)\n",
    "    \n",
    "    sns.set_style(\"darkgrid\")\n",
    "    plt.figure(figsize=(8, 6))\n",
    "    sns.lineplot(fpr, tpr, label='AUC = %0.2f' % roc_auc)\n",
    "    plt.title('ROC Curve')\n",
    "    plt.xlabel('False Positive Rate')\n",
    "    plt.ylabel('True Positive Rate')\n",
    "    plt.legend(loc=\"lower right\")\n",
    "    plt.show()"
   ]
  },
  {
   "cell_type": "code",
   "execution_count": 22,
   "metadata": {
    "id": "Lsu_EEI7klPU"
   },
   "outputs": [],
   "source": [
    "def plot_feature_importance(rfc, feature_names):\n",
    "    importances = rfc.feature_importances_\n",
    "    indices = np.argsort(importances)[::-1]\n",
    "    names = [feature_names[i] for i in indices]\n",
    "    plt.figure()\n",
    "    plt.title(\"Feature Importance\")\n",
    "    plt.bar(range(len(feature_names)), importances[indices])\n",
    "    plt.xticks(range(len(feature_names)), names, rotation=90)\n",
    "    plt.show()"
   ]
  },
  {
   "cell_type": "code",
   "execution_count": 23,
   "metadata": {
    "id": "reLU6OXp_BqB"
   },
   "outputs": [],
   "source": [
    "# df_2_train = pd.concat([X_train, y_train], axis=1)\n",
    "# df_2_test = pd.concat([X_test, y_test],axis=1)"
   ]
  },
  {
   "cell_type": "code",
   "execution_count": 24,
   "metadata": {
    "id": "6zlOBWie_BqC"
   },
   "outputs": [],
   "source": [
    "# from google.colab import files\n",
    "\n",
    "# # Save the DataFrame to a CSV file\n",
    "# df_2_test.to_csv('df_2_test.csv', index=False)\n",
    "\n",
    "# # Download the CSV file to your local machine\n",
    "# files.download('df_2_test.csv')"
   ]
  },
  {
   "cell_type": "code",
   "execution_count": 25,
   "metadata": {
    "colab": {
     "base_uri": "https://localhost:8080/"
    },
    "id": "YZgEY9lPKzML",
    "outputId": "f61a6a36-7be4-4d97-c90f-b6076de964b5"
   },
   "outputs": [
    {
     "name": "stdout",
     "output_type": "stream",
     "text": [
      "<class 'pandas.core.frame.DataFrame'>\n",
      "RangeIndex: 71544 entries, 0 to 71543\n",
      "Data columns (total 33 columns):\n",
      " #   Column                             Non-Null Count  Dtype  \n",
      "---  ------                             --------------  -----  \n",
      " 0   account_id                         71544 non-null  int64  \n",
      " 1   label                              71544 non-null  int64  \n",
      " 2   is_phone_number_verified           71544 non-null  int64  \n",
      " 3   is_email_verified                  71544 non-null  int64  \n",
      " 4   is_reseller_flag                   71544 non-null  bool   \n",
      " 5   email_category_gmail               71544 non-null  float64\n",
      " 6   email_category_hotmail             71544 non-null  float64\n",
      " 7   email_category_icloud              71544 non-null  float64\n",
      " 8   email_category_live                71544 non-null  float64\n",
      " 9   email_category_others              71544 non-null  float64\n",
      " 10  email_category_outlook             71544 non-null  float64\n",
      " 11  email_category_rocketmail          71544 non-null  float64\n",
      " 12  email_category_yahoo               71544 non-null  float64\n",
      " 13  email_category_ymail               71544 non-null  float64\n",
      " 14  first_transaction_category_c       71544 non-null  float64\n",
      " 15  first_transaction_category_e       71544 non-null  float64\n",
      " 16  first_transaction_category_f       71544 non-null  float64\n",
      " 17  first_transaction_category_h       71544 non-null  float64\n",
      " 18  first_transaction_category_t       71544 non-null  float64\n",
      " 19  day_to_first_transaction           71544 non-null  float64\n",
      " 20  order_count                        71544 non-null  float64\n",
      " 21  order_count_with_promo             71544 non-null  float64\n",
      " 22  price_amount                       71544 non-null  float64\n",
      " 23  promo_amount                       71544 non-null  float64\n",
      " 24  category_f_order_count             71544 non-null  float64\n",
      " 25  category_f_order_count_with_promo  71544 non-null  float64\n",
      " 26  category_f_price_amount            71544 non-null  float64\n",
      " 27  category_f_promo_amount            71544 non-null  float64\n",
      " 28  similar_name_count                 71544 non-null  float64\n",
      " 29  similar_email_count                71544 non-null  float64\n",
      " 30  similar_phone_number_count         71544 non-null  float64\n",
      " 31  similar_device_count               71544 non-null  float64\n",
      " 32  similar_birth_date_count           71544 non-null  float64\n",
      "dtypes: bool(1), float64(28), int64(4)\n",
      "memory usage: 17.5 MB\n"
     ]
    }
   ],
   "source": [
    "df.info()"
   ]
  },
  {
   "cell_type": "code",
   "execution_count": 26,
   "metadata": {
    "colab": {
     "base_uri": "https://localhost:8080/"
    },
    "id": "VlI99wRS6O8x",
    "outputId": "5a1f28bc-78e0-4bf8-9b78-111ee3d3fb58"
   },
   "outputs": [
    {
     "data": {
      "text/plain": [
       "array([False, False, False, False, False, False, False, False, False,\n",
       "       False, False, False, False, False, False, False, False, False,\n",
       "       False, False, False, False, False, False, False, False, False,\n",
       "       False, False, False, False, False, False])"
      ]
     },
     "execution_count": 26,
     "metadata": {},
     "output_type": "execute_result"
    }
   ],
   "source": [
    "counts = df.isna().sum()\n",
    "selected_data = df.columns.isin(counts[(counts > 0 )].index)\n",
    "selected_data"
   ]
  },
  {
   "cell_type": "code",
   "execution_count": 27,
   "metadata": {
    "colab": {
     "base_uri": "https://localhost:8080/"
    },
    "id": "s6rMLdhb6WnF",
    "outputId": "4c33fa4e-d378-4c61-ce98-fdf7f8ee2951"
   },
   "outputs": [
    {
     "data": {
      "text/plain": [
       "71544"
      ]
     },
     "execution_count": 27,
     "metadata": {},
     "output_type": "execute_result"
    }
   ],
   "source": [
    "len(df)"
   ]
  },
  {
   "cell_type": "code",
   "execution_count": 28,
   "metadata": {
    "id": "rtujcoSWXI3l"
   },
   "outputs": [],
   "source": [
    "# X[X['day_to_first_transaction'].isna()]"
   ]
  },
  {
   "cell_type": "markdown",
   "metadata": {
    "id": "vXpix0qfkdut"
   },
   "source": [
    "# Modeling"
   ]
  },
  {
   "cell_type": "markdown",
   "metadata": {
    "id": "X3DOF7HI-4lC"
   },
   "source": [
    "## Base Model (Random Forest Classifier)"
   ]
  },
  {
   "cell_type": "code",
   "execution_count": 35,
   "metadata": {
    "colab": {
     "base_uri": "https://localhost:8080/",
     "height": 1000
    },
    "id": "r3s1YRlP-4lD",
    "outputId": "4694f30e-601a-42af-d216-1e350e28e798"
   },
   "outputs": [
    {
     "name": "stdout",
     "output_type": "stream",
     "text": [
      "Number of examples in the training set:  42926\n",
      "Number of examples in the validation set:  14309\n",
      "Number of examples in the test set:  14309\n",
      "Number of examples in the imbalanced test dataset (label 0): 12878\n",
      "Number of examples in the imbalanced test dataset (label 1): 1430\n",
      "[[12836    42]\n",
      " [  497   933]]\n",
      "Number of examples in the training set:  42926\n",
      "Number of examples in the validation set:  14309\n",
      "Number of examples in the test set:  14309\n",
      "Number of examples in the imbalanced test dataset (label 0): 12878\n",
      "Number of examples in the imbalanced test dataset (label 1): 1430\n",
      "[[12839    39]\n",
      " [  561   869]]\n",
      "Number of examples in the training set:  42926\n",
      "Number of examples in the validation set:  14309\n",
      "Number of examples in the test set:  14309\n",
      "Number of examples in the imbalanced test dataset (label 0): 12878\n",
      "Number of examples in the imbalanced test dataset (label 1): 1430\n",
      "[[12848    30]\n",
      " [  526   904]]\n",
      "Number of examples in the training set:  42926\n",
      "Number of examples in the validation set:  14309\n",
      "Number of examples in the test set:  14309\n",
      "Number of examples in the imbalanced test dataset (label 0): 12878\n",
      "Number of examples in the imbalanced test dataset (label 1): 1430\n",
      "[[12845    33]\n",
      " [  523   907]]\n",
      "Number of examples in the training set:  42926\n",
      "Number of examples in the validation set:  14309\n",
      "Number of examples in the test set:  14309\n",
      "Number of examples in the imbalanced test dataset (label 0): 12878\n",
      "Number of examples in the imbalanced test dataset (label 1): 1430\n",
      "[[12843    35]\n",
      " [  530   900]]\n",
      "      Val Accuracy  Val Precision  Val Recall    Val F1   Val AUC  Val Loss  \\\n",
      "mean      0.954728        0.45413    0.118413  0.187822  0.555901  1.631776   \n",
      "\n",
      "      Val Specificity  Test Accuracy  Test Precision  Test Recall  ...  \\\n",
      "mean          0.99339       0.956307        0.476092     0.130151  ...   \n",
      "\n",
      "      Test Imbalanced Precision  Test Imbalanced Recall  Test Imbalanced F1  \\\n",
      "mean                   0.961862                0.631189            0.762112   \n",
      "\n",
      "      Test Imbalanced AUC  Test Imbalanced Loss  Test Imbalanced Specificity  \\\n",
      "mean             0.814204              1.418772                      0.99722   \n",
      "\n",
      "      Training Time  Pred Val Time  Pred Test Time  Pred Test Imbalanced Time  \n",
      "mean       3.811088       0.202513        0.201031                   0.234399  \n",
      "\n",
      "[1 rows x 25 columns]\n",
      "\tVal Accuracy\tVal Precision\tVal Recall\tVal F1\tVal AUC\tVal Loss\tVal Specificity\tTest Accuracy\tTest Precision\tTest Recall\tTest F1\tTest AUC\tTest Loss\tTest Specificity\tTest Imbalanced Accuracy\tTest Imbalanced Precision\tTest Imbalanced Recall\tTest Imbalanced F1\tTest Imbalanced AUC\tTest Imbalanced Loss\tTest Imbalanced Specificity\tTraining Time\tPred Val Time\tPred Test Time\tPred Test Imbalanced Time\n",
      "mean\t0.954727793696275\t0.45413011695906425\t0.11841294087477505\t0.18782173222528434\t0.5559013937423132\t1.631775712172066\t0.9933898466098515\t0.9563072192326507\t0.4760922195342333\t0.13015113519493995\t0.20429622004362802\t0.5618323111818552\t1.5748474455850197\t0.9935134871687703\t0.9606374056471904\t0.9618624165334049\t0.6311888111888111\t0.7621119204241209\t0.8142044382081656\t1.41877170734909\t0.9972200652275198\t3.811087989807129\t0.20251283645629883\t0.20103144645690918\t0.23439946174621581\n",
      "\n"
     ]
    }
   ],
   "source": [
    "# Define the model\n",
    "rf = RandomForestClassifier(\n",
    "    \n",
    "    )\n",
    "\n",
    "print(run_iterations(rf, X, y))"
   ]
  },
  {
   "cell_type": "markdown",
   "metadata": {
    "id": "-Tv2V9sh7RA1"
   },
   "source": [
    "## Using Class Weight Balanced"
   ]
  },
  {
   "cell_type": "code",
   "execution_count": 30,
   "metadata": {
    "colab": {
     "base_uri": "https://localhost:8080/",
     "height": 1000
    },
    "id": "KEMdW6qk7SC6",
    "outputId": "f253e474-7a50-4d75-a425-46f1614a1349"
   },
   "outputs": [
    {
     "name": "stdout",
     "output_type": "stream",
     "text": [
      "Number of examples in the training set:  42926\n",
      "Number of examples in the validation set:  14309\n",
      "Number of examples in the test set:  14309\n",
      "Number of examples in the imbalanced test dataset (label 0): 12878\n",
      "Number of examples in the imbalanced test dataset (label 1): 1430\n",
      "[[12818    60]\n",
      " [  479   951]]\n",
      "Number of examples in the training set:  42926\n",
      "Number of examples in the validation set:  14309\n",
      "Number of examples in the test set:  14309\n",
      "Number of examples in the imbalanced test dataset (label 0): 12878\n",
      "Number of examples in the imbalanced test dataset (label 1): 1430\n",
      "[[12821    57]\n",
      " [  545   885]]\n",
      "Number of examples in the training set:  42926\n",
      "Number of examples in the validation set:  14309\n",
      "Number of examples in the test set:  14309\n",
      "Number of examples in the imbalanced test dataset (label 0): 12878\n",
      "Number of examples in the imbalanced test dataset (label 1): 1430\n",
      "[[12816    62]\n",
      " [  504   926]]\n",
      "Number of examples in the training set:  42926\n",
      "Number of examples in the validation set:  14309\n",
      "Number of examples in the test set:  14309\n",
      "Number of examples in the imbalanced test dataset (label 0): 12878\n",
      "Number of examples in the imbalanced test dataset (label 1): 1430\n",
      "[[12817    61]\n",
      " [  499   931]]\n",
      "Number of examples in the training set:  42926\n",
      "Number of examples in the validation set:  14309\n",
      "Number of examples in the test set:  14309\n",
      "Number of examples in the imbalanced test dataset (label 0): 12878\n",
      "Number of examples in the imbalanced test dataset (label 1): 1430\n",
      "[[12815    63]\n",
      " [  524   906]]\n",
      "      Val Accuracy  Val Precision  Val Recall    Val F1   Val AUC  Val Loss  \\\n",
      "mean      0.952939       0.389757    0.114599  0.177112  0.553146  1.696261   \n",
      "\n",
      "      Val Specificity  Test Accuracy  Test Precision  Test Recall  ...  \\\n",
      "mean         0.991694       0.954322        0.402316      0.12318  ...   \n",
      "\n",
      "      Test Imbalanced Precision  Test Imbalanced Recall  Test Imbalanced F1  \\\n",
      "mean                   0.938177                0.643217            0.763084   \n",
      "\n",
      "      Test Imbalanced AUC  Test Imbalanced Loss  Test Imbalanced Specificity  \\\n",
      "mean             0.819256              1.437917                     0.995294   \n",
      "\n",
      "      Training Time  Pred Val Time  Pred Test Time  Pred Test Imbalanced Time  \n",
      "mean       3.723666       0.219359        0.201923                   0.208476  \n",
      "\n",
      "[1 rows x 25 columns]\n",
      "\tVal Accuracy\tVal Precision\tVal Recall\tVal F1\tVal AUC\tVal Loss\tVal Specificity\tTest Accuracy\tTest Precision\tTest Recall\tTest F1\tTest AUC\tTest Loss\tTest Specificity\tTest Imbalanced Accuracy\tTest Imbalanced Precision\tTest Imbalanced Recall\tTest Imbalanced F1\tTest Imbalanced AUC\tTest Imbalanced Loss\tTest Imbalanced Specificity\tTraining Time\tPred Val Time\tPred Test Time\tPred Test Imbalanced Time\n",
      "mean\t0.9529387099028584\t0.3897566196391229\t0.1145989137536623\t0.1771115657597248\t0.5531462402479648\t1.6962608283060654\t0.9916935667422668\t0.9543224543993292\t0.40231593882711125\t0.12318008307397217\t0.18858028953334022\t0.5574707801386142\t1.6463856212961752\t0.9917614772032559\t0.9601062342745317\t0.9381765626107382\t0.6432167832167832\t0.7630835364018391\t0.8192555417869908\t1.4379170641954202\t0.9952943003571983\t3.723665714263916\t0.21935877799987794\t0.20192289352416992\t0.20847558975219727\n",
      "\n"
     ]
    }
   ],
   "source": [
    "# Define the model\n",
    "rf = RandomForestClassifier(random_state=42, class_weight='balanced')\n",
    "print(run_iterations(rf, X, y))"
   ]
  },
  {
   "cell_type": "markdown",
   "metadata": {
    "id": "HCXK3bPlS6L4"
   },
   "source": [
    "## With hyperparameter"
   ]
  },
  {
   "cell_type": "code",
   "execution_count": 31,
   "metadata": {
    "colab": {
     "base_uri": "https://localhost:8080/",
     "height": 1000
    },
    "id": "gEC23mOL7b3N",
    "outputId": "67a129d9-1f28-4832-de20-f937950b1f71"
   },
   "outputs": [
    {
     "name": "stdout",
     "output_type": "stream",
     "text": [
      "Number of examples in the training set:  42926\n",
      "Number of examples in the validation set:  14309\n",
      "Number of examples in the test set:  14309\n",
      "Number of examples in the imbalanced test dataset (label 0): 12878\n",
      "Number of examples in the imbalanced test dataset (label 1): 1430\n",
      "[[12731   147]\n",
      " [  427  1003]]\n",
      "Number of examples in the training set:  42926\n",
      "Number of examples in the validation set:  14309\n",
      "Number of examples in the test set:  14309\n",
      "Number of examples in the imbalanced test dataset (label 0): 12878\n",
      "Number of examples in the imbalanced test dataset (label 1): 1430\n",
      "[[12739   139]\n",
      " [  484   946]]\n",
      "Number of examples in the training set:  42926\n",
      "Number of examples in the validation set:  14309\n",
      "Number of examples in the test set:  14309\n",
      "Number of examples in the imbalanced test dataset (label 0): 12878\n",
      "Number of examples in the imbalanced test dataset (label 1): 1430\n",
      "[[12734   144]\n",
      " [  459   971]]\n",
      "Number of examples in the training set:  42926\n",
      "Number of examples in the validation set:  14309\n",
      "Number of examples in the test set:  14309\n",
      "Number of examples in the imbalanced test dataset (label 0): 12878\n",
      "Number of examples in the imbalanced test dataset (label 1): 1430\n",
      "[[12729   149]\n",
      " [  446   984]]\n",
      "Number of examples in the training set:  42926\n",
      "Number of examples in the validation set:  14309\n",
      "Number of examples in the test set:  14309\n",
      "Number of examples in the imbalanced test dataset (label 0): 12878\n",
      "Number of examples in the imbalanced test dataset (label 1): 1430\n",
      "[[12743   135]\n",
      " [  475   955]]\n",
      "      Val Accuracy  Val Precision  Val Recall    Val F1   Val AUC  Val Loss  \\\n",
      "mean      0.950353       0.392218     0.22412  0.285144  0.604024  1.789462   \n",
      "\n",
      "      Val Specificity  Test Accuracy  Test Precision  Test Recall  ...  \\\n",
      "mean         0.983928       0.952226        0.408153     0.242267  ...   \n",
      "\n",
      "      Test Imbalanced Precision  Test Imbalanced Recall  Test Imbalanced F1  \\\n",
      "mean                   0.871911                 0.67958            0.763731   \n",
      "\n",
      "      Test Imbalanced AUC  Test Imbalanced Loss  Test Imbalanced Specificity  \\\n",
      "mean             0.834246              1.513995                     0.988911   \n",
      "\n",
      "      Training Time  Pred Val Time  Pred Test Time  Pred Test Imbalanced Time  \n",
      "mean       7.084734       0.394712        0.376027                   0.380014  \n",
      "\n",
      "[1 rows x 25 columns]\n",
      "\tVal Accuracy\tVal Precision\tVal Recall\tVal F1\tVal AUC\tVal Loss\tVal Specificity\tTest Accuracy\tTest Precision\tTest Recall\tTest F1\tTest AUC\tTest Loss\tTest Specificity\tTest Imbalanced Accuracy\tTest Imbalanced Precision\tTest Imbalanced Recall\tTest Imbalanced F1\tTest Imbalanced AUC\tTest Imbalanced Loss\tTest Imbalanced Specificity\tTraining Time\tPred Val Time\tPred Test Time\tPred Test Imbalanced Time\n",
      "mean\t0.9503529247326856\t0.39221768118928024\t0.2241198767446911\t0.28514404941213817\t0.6040241665665326\t1.7894619727184868\t0.9839284563883741\t0.9522258718289189\t0.4081527692992851\t0.24226690190612485\t0.30403920624235503\t0.6132309144451417\t1.721954116765706\t0.9841949269841586\t0.9579955269779145\t0.8719105706923169\t0.6795804195804196\t0.7637314357338048\t0.8342458706071068\t1.5139946664005737\t0.9889113216337941\t7.084733963012695\t0.3947117805480957\t0.37602744102478025\t0.38001394271850586\n",
      "\n"
     ]
    }
   ],
   "source": [
    "# Define the model\n",
    "rf = RandomForestClassifier(random_state=42, class_weight='balanced', \n",
    "                            max_depth=30, min_samples_leaf=1, min_samples_split=5, n_estimators=200)\n",
    "print(run_iterations(rf, X, y))"
   ]
  },
  {
   "cell_type": "code",
   "execution_count": 32,
   "metadata": {
    "id": "pboPJG6anvIY"
   },
   "outputs": [],
   "source": [
    "# # define the hyperparameter grid to search over\n",
    "\n",
    "# # Number of trees in random forest\n",
    "# # n_estimators = [int(x) for x in np.linspace(start = 200, stop = 2000, num = 10)]\n",
    "# n_estimators = [50,100,200]\n",
    "# # Number of features to consider at every split\n",
    "# # max_features = ['auto', 'sqrt']\n",
    "# # Maximum number of levels in tree\n",
    "# max_depth = [2,4,6,8,None]\n",
    "# # max_depth = [int(x) for x in np.linspace(10, 110, num = 11)]\n",
    "# # max_depth.append(None)\n",
    "# # Minimum number of samples required to split a node\n",
    "# min_samples_split = [2, 5, 10]\n",
    "# # Minimum number of samples required at each leaf node\n",
    "# min_samples_leaf = [1, 2, 4]\n",
    "# # Method of selecting samples for training each tree\n",
    "# bootstrap = [True, False]\n",
    "\n",
    "# param_grid = {\n",
    "#     'n_estimators': n_estimators,\n",
    "#     # 'max_features': max_features,\n",
    "#     'max_depth': max_depth,\n",
    "#     'min_samples_split': min_samples_split,\n",
    "#     'min_samples_leaf': min_samples_leaf,\n",
    "#     'bootstrap': bootstrap\n",
    "# }\n",
    "\n",
    "# # create a random forest classifier object\n",
    "# rf = RandomForestClassifier(random_state=42)\n",
    "\n",
    "# # create a grid search object\n",
    "# grid_search = GridSearchCV(rf, param_grid, cv=5, scoring='f1', verbose=2)\n",
    "\n",
    "# # fit the grid search object to the data\n",
    "# grid_search.fit(X_train, y_train)\n",
    "\n",
    "# # print the best hyperparameters and corresponding f1 score\n",
    "# print('Best hyperparameters:', grid_search.best_params_)\n",
    "# print('Best F1 score:', grid_search.best_score_)"
   ]
  },
  {
   "cell_type": "code",
   "execution_count": 33,
   "metadata": {
    "id": "R2qrjWIpURxx"
   },
   "outputs": [],
   "source": [
    "# data_testing_01\n",
    "# Best hyperparameters: {'bootstrap': False, 'max_depth': 10, 'min_samples_leaf': 4, 'min_samples_split': 2, 'n_estimators': 100}\n",
    "\n",
    "\n",
    "# data_full_1\n",
    "# Best hyperparameters: {'bootstrap': False, 'max_depth': 6, 'min_samples_leaf': 2, 'min_samples_split': 2, 'n_estimators': 100}\n"
   ]
  },
  {
   "cell_type": "markdown",
   "metadata": {
    "id": "-eDDRgTPamPN"
   },
   "source": [
    "## Hyperparameter 2"
   ]
  },
  {
   "cell_type": "code",
   "execution_count": 34,
   "metadata": {
    "colab": {
     "base_uri": "https://localhost:8080/",
     "height": 1000
    },
    "id": "2zXjRJ9WUYYL",
    "outputId": "462d37b8-7e98-4009-f057-fce062209f12"
   },
   "outputs": [
    {
     "name": "stdout",
     "output_type": "stream",
     "text": [
      "Number of examples in the training set:  42926\n",
      "Number of examples in the validation set:  14309\n",
      "Number of examples in the test set:  14309\n",
      "Number of examples in the imbalanced test dataset (label 0): 12878\n",
      "Number of examples in the imbalanced test dataset (label 1): 1430\n",
      "[[11526  1352]\n",
      " [  710   720]]\n",
      "Number of examples in the training set:  42926\n",
      "Number of examples in the validation set:  14309\n",
      "Number of examples in the test set:  14309\n",
      "Number of examples in the imbalanced test dataset (label 0): 12878\n",
      "Number of examples in the imbalanced test dataset (label 1): 1430\n",
      "[[11522  1356]\n",
      " [  734   696]]\n",
      "Number of examples in the training set:  42926\n",
      "Number of examples in the validation set:  14309\n",
      "Number of examples in the test set:  14309\n",
      "Number of examples in the imbalanced test dataset (label 0): 12878\n",
      "Number of examples in the imbalanced test dataset (label 1): 1430\n",
      "[[11556  1322]\n",
      " [  734   696]]\n",
      "Number of examples in the training set:  42926\n",
      "Number of examples in the validation set:  14309\n",
      "Number of examples in the test set:  14309\n",
      "Number of examples in the imbalanced test dataset (label 0): 12878\n",
      "Number of examples in the imbalanced test dataset (label 1): 1430\n",
      "[[11487  1391]\n",
      " [  750   680]]\n",
      "Number of examples in the training set:  42926\n",
      "Number of examples in the validation set:  14309\n",
      "Number of examples in the test set:  14309\n",
      "Number of examples in the imbalanced test dataset (label 0): 12878\n",
      "Number of examples in the imbalanced test dataset (label 1): 1430\n",
      "[[11507  1371]\n",
      " [  735   695]]\n",
      "      Val Accuracy  Val Precision  Val Recall    Val F1   Val AUC  Val Loss  \\\n",
      "mean      0.872164        0.16395    0.461434  0.241857  0.676297  4.607663   \n",
      "\n",
      "      Val Specificity  Test Accuracy  Test Precision  Test Recall  ...  \\\n",
      "mean         0.891161       0.873926        0.164806     0.471378  ...   \n",
      "\n",
      "      Test Imbalanced Precision  Test Imbalanced Recall  Test Imbalanced F1  \\\n",
      "mean                   0.339262                0.487692            0.400147   \n",
      "\n",
      "      Test Imbalanced AUC  Test Imbalanced Loss  Test Imbalanced Specificity  \\\n",
      "mean             0.691105              5.267492                     0.894518   \n",
      "\n",
      "      Training Time  Pred Val Time  Pred Test Time  Pred Test Imbalanced Time  \n",
      "mean       1.752535       0.066672        0.066735                   0.067353  \n",
      "\n",
      "[1 rows x 25 columns]\n",
      "\tVal Accuracy\tVal Precision\tVal Recall\tVal F1\tVal AUC\tVal Loss\tVal Specificity\tTest Accuracy\tTest Precision\tTest Recall\tTest F1\tTest AUC\tTest Loss\tTest Specificity\tTest Imbalanced Accuracy\tTest Imbalanced Precision\tTest Imbalanced Recall\tTest Imbalanced F1\tTest Imbalanced AUC\tTest Imbalanced Loss\tTest Imbalanced Specificity\tTraining Time\tPred Val Time\tPred Test Time\tPred Test Imbalanced Time\n",
      "mean\t0.8721643720735202\t0.16395022765276224\t0.46143407505720135\t0.24185667930326787\t0.6762972987044412\t4.6076630637621845\t0.8911605223516809\t0.8739255014326648\t0.16480587046094955\t0.4713782734248534\t0.2440652598987773\t0.6817112221435975\t4.5441855275677785\t0.8920441708623414\t0.8538579815487839\t0.3392620408427701\t0.48769230769230765\t0.4001467683004406\t0.6911050449783173\t5.267492258641598\t0.8945177822643269\t1.7525349617004395\t0.06667184829711914\t0.06673521995544433\t0.06735339164733886\n",
      "\n"
     ]
    }
   ],
   "source": [
    "# Define the model\n",
    "rf = RandomForestClassifier(random_state=42, class_weight='balanced', \n",
    "                            bootstrap = False, max_depth= 6, min_samples_leaf = 2, min_samples_split = 2, n_estimators = 100\n",
    "                              # bootstrap = False, max_depth= 10, min_samples_leaf = 4, min_samples_split = 2, n_estimators = 100\n",
    ")\n",
    "print(run_iterations(rf, X, y))"
   ]
  },
  {
   "cell_type": "code",
   "execution_count": null,
   "metadata": {
    "id": "s3zKYq7HwPI_"
   },
   "outputs": [],
   "source": []
  }
 ],
 "metadata": {
  "colab": {
   "provenance": [],
   "toc_visible": true
  },
  "kernelspec": {
   "display_name": "Python 3 (ipykernel)",
   "language": "python",
   "name": "python3"
  },
  "language_info": {
   "codemirror_mode": {
    "name": "ipython",
    "version": 3
   },
   "file_extension": ".py",
   "mimetype": "text/x-python",
   "name": "python",
   "nbconvert_exporter": "python",
   "pygments_lexer": "ipython3",
   "version": "3.9.7"
  }
 },
 "nbformat": 4,
 "nbformat_minor": 1
}
