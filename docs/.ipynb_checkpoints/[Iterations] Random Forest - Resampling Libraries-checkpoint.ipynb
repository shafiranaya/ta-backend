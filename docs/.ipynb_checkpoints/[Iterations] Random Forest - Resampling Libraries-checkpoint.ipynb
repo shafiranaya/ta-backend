{
 "cells": [
  {
   "cell_type": "code",
   "execution_count": 1,
   "metadata": {},
   "outputs": [
    {
     "name": "stdout",
     "output_type": "stream",
     "text": [
      "Requirement already satisfied: imblearn in /Users/shafiranaya/opt/anaconda3/lib/python3.9/site-packages (0.0)\n",
      "Requirement already satisfied: imbalanced-learn in /Users/shafiranaya/opt/anaconda3/lib/python3.9/site-packages (from imblearn) (0.10.1)\n",
      "Requirement already satisfied: scikit-learn>=1.0.2 in /Users/shafiranaya/opt/anaconda3/lib/python3.9/site-packages (from imbalanced-learn->imblearn) (1.2.0)\n",
      "Requirement already satisfied: scipy>=1.3.2 in /Users/shafiranaya/opt/anaconda3/lib/python3.9/site-packages (from imbalanced-learn->imblearn) (1.10.0)\n",
      "Requirement already satisfied: joblib>=1.1.1 in /Users/shafiranaya/opt/anaconda3/lib/python3.9/site-packages (from imbalanced-learn->imblearn) (1.2.0)\n",
      "Requirement already satisfied: threadpoolctl>=2.0.0 in /Users/shafiranaya/opt/anaconda3/lib/python3.9/site-packages (from imbalanced-learn->imblearn) (3.1.0)\n",
      "Requirement already satisfied: numpy>=1.17.3 in /Users/shafiranaya/opt/anaconda3/lib/python3.9/site-packages (from imbalanced-learn->imblearn) (1.23.3)\n",
      "Note: you may need to restart the kernel to use updated packages.\n"
     ]
    }
   ],
   "source": [
    "%pip install imblearn"
   ]
  },
  {
   "cell_type": "code",
   "execution_count": 2,
   "metadata": {},
   "outputs": [
    {
     "name": "stdout",
     "output_type": "stream",
     "text": [
      "Requirement already satisfied: threadpoolctl in /Users/shafiranaya/opt/anaconda3/lib/python3.9/site-packages (3.1.0)\n",
      "Note: you may need to restart the kernel to use updated packages.\n"
     ]
    }
   ],
   "source": [
    "%pip install -U threadpoolctl\n"
   ]
  },
  {
   "cell_type": "code",
   "execution_count": 3,
   "metadata": {
    "id": "qz8knwF-VxFi"
   },
   "outputs": [],
   "source": [
    "import pandas as pd\n",
    "import matplotlib.pyplot as plt\n",
    "import numpy as np\n",
    "import seaborn as sns\n",
    "import re\n",
    "from sklearn.preprocessing import MinMaxScaler, OneHotEncoder\n",
    "import time\n",
    "\n",
    "# Models\n",
    "from sklearn.linear_model import LogisticRegression\n",
    "from sklearn.svm import SVC\n",
    "from sklearn.tree import DecisionTreeClassifier\n",
    "from sklearn.ensemble import RandomForestClassifier\n",
    "\n",
    "# For resampling\n",
    "from collections import Counter\n",
    "from sklearn.datasets import make_classification\n",
    "from imblearn.over_sampling import SMOTE, SMOTENC, SMOTEN, ADASYN, RandomOverSampler\n",
    "from imblearn.under_sampling import NearMiss, RandomUnderSampler\n",
    "from imblearn.combine import SMOTEENN\n",
    "from sklearn.utils import resample\n",
    "\n",
    "# Ensemble Classifiers\n",
    "from sklearn.ensemble import VotingClassifier, StackingClassifier\n",
    "\n",
    "# Hyperparameter Tuning\n",
    "from sklearn.model_selection import GridSearchCV, cross_val_score, train_test_split, KFold\n",
    "\n",
    "# Evaluation\n",
    "from sklearn.metrics import accuracy_score, precision_score, recall_score, f1_score, roc_curve, auc, roc_auc_score, log_loss, classification_report, confusion_matrix\n",
    "\n",
    "# from xgboost import plot_importance, to_graphviz\n",
    "\n",
    "# from google.colab import files"
   ]
  },
  {
   "cell_type": "code",
   "execution_count": 4,
   "metadata": {
    "id": "p33D0MljmXB1"
   },
   "outputs": [],
   "source": [
    "# from google.colab import auth, drive\n",
    "# from google.auth import default"
   ]
  },
  {
   "cell_type": "code",
   "execution_count": 5,
   "metadata": {
    "colab": {
     "base_uri": "https://localhost:8080/"
    },
    "id": "pMBZd1lCmbN_",
    "outputId": "f4406a20-b3e0-4d44-d1cf-9f9686bc7b67"
   },
   "outputs": [],
   "source": [
    "# drive.mount('/content/drive',force_remount=True)"
   ]
  },
  {
   "cell_type": "markdown",
   "metadata": {
    "id": "-b5t7El9po9b"
   },
   "source": [
    "# Functions"
   ]
  },
  {
   "cell_type": "code",
   "execution_count": 114,
   "metadata": {
    "id": "FqOR2TkY0U3I"
   },
   "outputs": [],
   "source": [
    "def print_classification_metrics(y_true, y_pred):\n",
    "    # Compute the accuracy\n",
    "    accuracy = accuracy_score(y_true, y_pred)\n",
    "    print(\"Accuracy: {:.3f}\".format(accuracy))\n",
    "    # Compute the precision\n",
    "    precision = precision_score(y_true, y_pred)\n",
    "    print(\"Precision: {:.3f}\".format(precision))\n",
    "    # Compute the recall or sensitivity\n",
    "    recall = recall_score(y_true, y_pred)\n",
    "    print(\"Recall: {:.3f}\".format(recall))\n",
    "    # Compute the F1 score\n",
    "    f1 = f1_score(y_true, y_pred)\n",
    "    print(\"F1 score: {:.3f}\".format(f1))\n",
    "    # Compute the roc auc score\n",
    "    auc = roc_auc_score(y_true,y_pred)\n",
    "    print(\"AUC score: {:.3f}\".format(auc))\n",
    "    # Compute the log lossscore\n",
    "    loss = log_loss(y_true,y_pred)\n",
    "    print(\"Log loss: {:.3f}\".format(loss))\n",
    "\n",
    "    # Assume y_true and y_pred are the true and predicted labels for a binary classification problem\n",
    "    tn, fp, fn, tp = confusion_matrix(y_true, y_pred).ravel()\n",
    "    # Calculate TPR and TNR\n",
    "    tpr = tp / (tp + fn) # Sensitivity\n",
    "    tnr = tn / (tn + fp) # Specificity\n",
    "    # Calculate G-mean\n",
    "    gmean = np.sqrt(tpr * tnr)\n",
    "    print(\"G-mean: {:.3f}\".format(gmean))\n",
    "\n",
    "    print(\"Specificity: {:.3f}\".format(tnr))\n",
    "\n",
    "    # Print classification report and G-mean\n",
    "    print(classification_report(y_true, y_pred))\n",
    "    \n",
    "    print(\"{:.3f}\\t{:.3f}\\t{:.3f}\\t{:.3f}\\t{:.3f}\\t{:.3f}\\t{:.3f}\".format(accuracy,precision,recall,f1,auc,loss,tnr))\n",
    "\n",
    "    print(confusion_matrix(y_true,y_pred))"
   ]
  },
  {
   "cell_type": "code",
   "execution_count": 115,
   "metadata": {
    "id": "0PSidu9KOKAH"
   },
   "outputs": [],
   "source": [
    "def train_and_evaluate_model(model, resampling_method, X, y, random_state):\n",
    "    ### SPLITTING THE DATA ###\n",
    "\n",
    "    # Split the data into training, validation, and test sets\n",
    "    X_train, X_test, y_train, y_test = train_test_split(X, y, test_size=0.2, random_state = random_state)\n",
    "    X_train, X_val, y_train, y_val = train_test_split(X_train, y_train, test_size=0.25, random_state = random_state)\n",
    "\n",
    "    # Separate minority and majority classes\n",
    "    minority_class = df[df['label'] == 1]\n",
    "    majority_class = df[df['label'] == 0]\n",
    "    \n",
    "    print(len(majority_class), len(minority_class))\n",
    "    print(len(X_train), len(X_val), len(X_test))\n",
    "    print(len(y_train), len(y_val), len(y_test))\n",
    "    # Resample\n",
    "    start_sampling_time = time.time()\n",
    "    X_resampled, y_resampled = resampling_method.fit_resample(X_train, y_train)\n",
    "    stop_sampling_time = time.time()\n",
    "    sampling_time = stop_sampling_time - start_sampling_time\n",
    "    \n",
    "    # Print the number of examples in each set\n",
    "    print(\"Number of examples in the training set: \", len(X_train))\n",
    "    print(\"Number of examples in the resampled dataset (label -1):\", len(y_resampled[y_resampled == 0]))\n",
    "    print(\"Number of examples in the resampled dataset (label 1):\", len(y_resampled[y_resampled == 1]))\n",
    "      \n",
    "    print(\"Number of examples in the validation set: \", len(X_val))\n",
    "    print(\"Number of examples in the test set: \", len(X_test))\n",
    "  \n",
    "    # Calculate the desired number of samples for each class based on the proportion in the test dataset\n",
    "    desired_majority_samples = int(len(X_test) * 0.90)\n",
    "    desired_minority_samples = int(len(X_test) * 0.10)\n",
    "\n",
    "    # Resample the majority class in the test dataset\n",
    "    resampled_majority_class = resample(majority_class,\n",
    "                                        replace=True,\n",
    "                                        n_samples=desired_majority_samples, \n",
    "                                        random_state = random_state\n",
    "                                        \n",
    "                                        )\n",
    "\n",
    "    # Sample the minority class in the test dataset\n",
    "    sampled_minority_class = resample(minority_class,\n",
    "                                      replace=True,\n",
    "                                      n_samples=desired_minority_samples, \n",
    "                                      random_state = random_state\n",
    "                                      )\n",
    "\n",
    "    test_imbalanced = pd.concat([resampled_majority_class, sampled_minority_class])\n",
    "    X_test_imbalanced = test_imbalanced.drop(['label', 'account_id'], axis=1)\n",
    "    y_test_imbalanced= test_imbalanced['label']\n",
    "\n",
    "    # Print the number of examples in each class in the imbalanced test dataset\n",
    "    print(\"Number of examples in the imbalanced test dataset (label -1):\", len(y_test_imbalanced[y_test_imbalanced == 0]))\n",
    "    print(\"Number of examples in the imbalanced test dataset (label 1):\", len(y_test_imbalanced[y_test_imbalanced == 1]))\n",
    "      \n",
    "    ### MODELLING ###\n",
    "    start_training_time = time.time()\n",
    "    model.fit(X_resampled, y_resampled)\n",
    "    stop_training_time = time.time()\n",
    "    training_time = stop_training_time - start_training_time\n",
    "\n",
    "    ### RESULTS ###\n",
    "    ## Val\n",
    "    start_pred_val = time.time()\n",
    "    y_pred_val = model.predict(X_val)\n",
    "    stop_pred_val = time.time()\n",
    "    pred_val_time = stop_pred_val - start_pred_val\n",
    "\n",
    "    accuracy_val = accuracy_score(y_val, y_pred_val)\n",
    "    precision_val = precision_score(y_val, y_pred_val)\n",
    "    recall_val = recall_score(y_val, y_pred_val)\n",
    "    f1_val = f1_score(y_val, y_pred_val)\n",
    "    auc_val = roc_auc_score(y_val,y_pred_val)\n",
    "    loss_val = log_loss(y_val,y_pred_val)\n",
    "    # Assume y_val and y_pred are the true and predicted labels for a binary classification problem\n",
    "    tn_val, fp_val, fn_val, tp_val = confusion_matrix(y_val, y_pred_val).ravel()\n",
    "    # Calculate TPR and TNR\n",
    "    tpr_val = tp_val / (tp_val + fn_val) # Sensitivity\n",
    "    tnr_val = tn_val / (tn_val + fp_val) # Specificity\n",
    "    # Calculate G-mean\n",
    "    gmean_val = np.sqrt(tpr_val * tnr_val) \n",
    "    ## Test\n",
    "    start_pred_test = time.time()\n",
    "    y_pred_test = model.predict(X_test)\n",
    "    stop_pred_test = time.time()\n",
    "    pred_test_time = stop_pred_test - start_pred_test\n",
    "\n",
    "    accuracy_test = accuracy_score(y_test, y_pred_test)\n",
    "    precision_test = precision_score(y_test, y_pred_test)\n",
    "    recall_test = recall_score(y_test, y_pred_test)\n",
    "    f1_test = f1_score(y_test, y_pred_test)\n",
    "    auc_test = roc_auc_score(y_test,y_pred_test)\n",
    "    loss_test = log_loss(y_test,y_pred_test)\n",
    "    # Assume y_test and y_pred are the true and predicted labels for a binary classification problem\n",
    "    tn_test, fp_test, fn_test, tp_test = confusion_matrix(y_test, y_pred_test).ravel()\n",
    "    # Calculate TPR and TNR\n",
    "    tpr_test = tp_test / (tp_test + fn_test) # Sensitivity\n",
    "    tnr_test = tn_test / (tn_test + fp_test) # Specificity\n",
    "    # Calculate G-mean\n",
    "    gmean_test = np.sqrt(tpr_test * tnr_test)\n",
    "    \n",
    "    ## test imbalanced\n",
    "    start_pred_test_imbalanced = time.time()\n",
    "    y_pred_test_imbalanced = model.predict(X_test_imbalanced)\n",
    "    stop_pred_test_imbalanced = time.time()\n",
    "    pred_test_imbalanced_time = stop_pred_test_imbalanced - start_pred_test_imbalanced\n",
    "\n",
    "    accuracy_test_imbalanced = accuracy_score(y_test_imbalanced, y_pred_test_imbalanced)\n",
    "    precision_test_imbalanced = precision_score(y_test_imbalanced, y_pred_test_imbalanced)\n",
    "    recall_test_imbalanced = recall_score(y_test_imbalanced, y_pred_test_imbalanced)\n",
    "    f1_test_imbalanced = f1_score(y_test_imbalanced, y_pred_test_imbalanced)\n",
    "    auc_test_imbalanced = roc_auc_score(y_test_imbalanced,y_pred_test_imbalanced)\n",
    "    loss_test_imbalanced = log_loss(y_test_imbalanced,y_pred_test_imbalanced)\n",
    "    # Assume y_test_imbalanced and y_pred are the true and predicted labels for a binary classification problem\n",
    "    tn_test_imbalanced, fp_test_imbalanced, fn_test_imbalanced, tp_test_imbalanced = confusion_matrix(y_test_imbalanced, y_pred_test_imbalanced).ravel()\n",
    "    # Calculate TPR and TNR\n",
    "    tpr_test_imbalanced = tp_test_imbalanced / (tp_test_imbalanced + fn_test_imbalanced) # Sensitivity\n",
    "    tnr_test_imbalanced = tn_test_imbalanced / (tn_test_imbalanced + fp_test_imbalanced) # Specificity\n",
    "    # Calculate G-mean\n",
    "    gmean_test_imbalanced = np.sqrt(tpr_test_imbalanced * tnr_test_imbalanced) \n",
    "    \n",
    "    print(confusion_matrix(y_test_imbalanced,y_pred_test_imbalanced))\n",
    "    val_results = [accuracy_val, precision_val, recall_val, f1_val, auc_val, loss_val, tnr_val]\n",
    "    test_results = [accuracy_test, precision_test, recall_test, f1_test, auc_test, loss_test, tnr_test]\n",
    "    test_imbalanced_results = [accuracy_test_imbalanced, precision_test_imbalanced, recall_test_imbalanced, f1_test_imbalanced, auc_test_imbalanced, loss_test_imbalanced, tnr_test_imbalanced]\n",
    "\n",
    "    time_results = [training_time, pred_val_time, pred_test_time, pred_test_imbalanced_time, sampling_time]\n",
    "    return val_results, test_results, test_imbalanced_results, time_results\n",
    "    # return accuracy, precision, recall, f1, auc, loss, tnr   "
   ]
  },
  {
   "cell_type": "code",
   "execution_count": 116,
   "metadata": {
    "id": "kXQqS7aaQvg1"
   },
   "outputs": [],
   "source": [
    "def run_iterations(model, resampling_method, X, y, iterations=5):\n",
    "    results = []\n",
    "    random_state = [12,23,34,45,56]\n",
    "    for i in range(len(random_state)):\n",
    "        val_results, test_results, test_imbalanced_results, time_results = train_and_evaluate_model(model, resampling_method, X, y, random_state[i])\n",
    "        concatted_results = val_results + test_results + test_imbalanced_results + time_results\n",
    "    \n",
    "        results.append(concatted_results)\n",
    "\n",
    "    columns = ['Val Accuracy', 'Val Precision', 'Val Recall', 'Val F1', 'Val AUC', 'Val Loss', 'Val Specificity',\n",
    "               'Test Accuracy', 'Test Precision', 'Test Recall', 'Test F1', 'Test AUC', 'Test Loss', 'Test Specificity',\n",
    "               'Test Imbalanced Accuracy', 'Test Imbalanced Precision', 'Test Imbalanced Recall', 'Test Imbalanced F1', 'Test Imbalanced AUC', 'Test Imbalanced Loss', 'Test Imbalanced Specificity',\n",
    "               'Training Time', 'Pred Val Time', 'Pred Test Time', 'Pred Test Imbalanced Time', 'Sampling Time'\n",
    "               ]\n",
    "    df = pd.DataFrame(results, columns=columns)\n",
    "    print(df)\n",
    "    stats = df.describe().loc[['mean']]\n",
    "    # stats = df.describe()\n",
    "    print(stats)\n",
    "    return stats.to_csv(sep='\\t')"
   ]
  },
  {
   "cell_type": "code",
   "execution_count": 117,
   "metadata": {
    "id": "zlsQKnxQIs3_"
   },
   "outputs": [],
   "source": [
    "def plot_auc(y_true, y_scores):\n",
    "    fpr, tpr, thresholds = roc_curve(y_true, y_scores)\n",
    "    roc_auc = auc(fpr, tpr)\n",
    "    \n",
    "    sns.set_style(\"darkgrid\")\n",
    "    plt.figure(figsize=(8, 6))\n",
    "    sns.lineplot(fpr, tpr, label='AUC = %0.2f' % roc_auc)\n",
    "    plt.title('ROC Curve')\n",
    "    plt.xlabel('False Positive Rate')\n",
    "    plt.ylabel('True Positive Rate')\n",
    "    plt.legend(loc=\"lower right\")\n",
    "    plt.show()"
   ]
  },
  {
   "cell_type": "code",
   "execution_count": 118,
   "metadata": {
    "id": "Lsu_EEI7klPU"
   },
   "outputs": [],
   "source": [
    "def plot_feature_importance(rfc, feature_names):\n",
    "    importances = rfc.feature_importances_\n",
    "    indices = np.argsort(importances)[::-1]\n",
    "    names = [feature_names[i] for i in indices]\n",
    "    plt.figure()\n",
    "    plt.title(\"Feature Importance\")\n",
    "    plt.bar(range(len(feature_names)), importances[indices])\n",
    "    plt.xticks(range(len(feature_names)), names, rotation=90)\n",
    "    plt.show()"
   ]
  },
  {
   "cell_type": "markdown",
   "metadata": {
    "id": "a5rNCI-nH6o9"
   },
   "source": [
    "### Dataset"
   ]
  },
  {
   "cell_type": "code",
   "execution_count": 119,
   "metadata": {
    "id": "rMLy4xPTWgUs"
   },
   "outputs": [],
   "source": [
    "# drive_path = '/content/drive/MyDrive/TA/Dataset/'\n",
    "drive_path = '../dataset/'\n",
    "dataset_name = 'data_d'\n",
    "df = pd.read_csv(drive_path + dataset_name + '.csv')"
   ]
  },
  {
   "cell_type": "code",
   "execution_count": 120,
   "metadata": {},
   "outputs": [],
   "source": [
    "target_col = 'label'\n",
    "\n",
    "# df[target_col] = df[target_col].map({1: 1, 0: -1})  \n",
    "# # Identify columns with boolean data type\n",
    "# bool_columns = df.select_dtypes(include=['bool']).columns\n",
    "# # Convert boolean columns to integer\n",
    "# df[bool_columns] = df[bool_columns].astype(int)"
   ]
  },
  {
   "cell_type": "code",
   "execution_count": 121,
   "metadata": {
    "colab": {
     "base_uri": "https://localhost:8080/",
     "height": 270
    },
    "id": "Iw8zHrcCXi_a",
    "outputId": "cb147ad5-adb4-47be-fa67-0d81883559d7"
   },
   "outputs": [
    {
     "data": {
      "text/html": [
       "<div>\n",
       "<style scoped>\n",
       "    .dataframe tbody tr th:only-of-type {\n",
       "        vertical-align: middle;\n",
       "    }\n",
       "\n",
       "    .dataframe tbody tr th {\n",
       "        vertical-align: top;\n",
       "    }\n",
       "\n",
       "    .dataframe thead th {\n",
       "        text-align: right;\n",
       "    }\n",
       "</style>\n",
       "<table border=\"1\" class=\"dataframe\">\n",
       "  <thead>\n",
       "    <tr style=\"text-align: right;\">\n",
       "      <th></th>\n",
       "      <th>account_id</th>\n",
       "      <th>order_count_with_promo</th>\n",
       "      <th>price_amount</th>\n",
       "      <th>promo_amount</th>\n",
       "      <th>category_f_order_count_with_promo</th>\n",
       "      <th>category_f_promo_amount</th>\n",
       "      <th>label</th>\n",
       "    </tr>\n",
       "  </thead>\n",
       "  <tbody>\n",
       "    <tr>\n",
       "      <th>0</th>\n",
       "      <td>34634632</td>\n",
       "      <td>0.0</td>\n",
       "      <td>0.000108</td>\n",
       "      <td>0.0</td>\n",
       "      <td>0.0</td>\n",
       "      <td>0.0</td>\n",
       "      <td>1</td>\n",
       "    </tr>\n",
       "    <tr>\n",
       "      <th>1</th>\n",
       "      <td>27536039</td>\n",
       "      <td>0.0</td>\n",
       "      <td>0.000032</td>\n",
       "      <td>0.0</td>\n",
       "      <td>0.0</td>\n",
       "      <td>0.0</td>\n",
       "      <td>0</td>\n",
       "    </tr>\n",
       "    <tr>\n",
       "      <th>2</th>\n",
       "      <td>29164748</td>\n",
       "      <td>0.0</td>\n",
       "      <td>0.000015</td>\n",
       "      <td>0.0</td>\n",
       "      <td>0.0</td>\n",
       "      <td>0.0</td>\n",
       "      <td>0</td>\n",
       "    </tr>\n",
       "    <tr>\n",
       "      <th>3</th>\n",
       "      <td>28115239</td>\n",
       "      <td>0.0</td>\n",
       "      <td>0.000016</td>\n",
       "      <td>0.0</td>\n",
       "      <td>0.0</td>\n",
       "      <td>0.0</td>\n",
       "      <td>0</td>\n",
       "    </tr>\n",
       "    <tr>\n",
       "      <th>4</th>\n",
       "      <td>33491857</td>\n",
       "      <td>0.0</td>\n",
       "      <td>0.000050</td>\n",
       "      <td>0.0</td>\n",
       "      <td>0.0</td>\n",
       "      <td>0.0</td>\n",
       "      <td>0</td>\n",
       "    </tr>\n",
       "  </tbody>\n",
       "</table>\n",
       "</div>"
      ],
      "text/plain": [
       "   account_id  order_count_with_promo  price_amount  promo_amount  \\\n",
       "0    34634632                     0.0      0.000108           0.0   \n",
       "1    27536039                     0.0      0.000032           0.0   \n",
       "2    29164748                     0.0      0.000015           0.0   \n",
       "3    28115239                     0.0      0.000016           0.0   \n",
       "4    33491857                     0.0      0.000050           0.0   \n",
       "\n",
       "   category_f_order_count_with_promo  category_f_promo_amount  label  \n",
       "0                                0.0                      0.0      1  \n",
       "1                                0.0                      0.0      0  \n",
       "2                                0.0                      0.0      0  \n",
       "3                                0.0                      0.0      0  \n",
       "4                                0.0                      0.0      0  "
      ]
     },
     "execution_count": 121,
     "metadata": {},
     "output_type": "execute_result"
    }
   ],
   "source": [
    "df.head()"
   ]
  },
  {
   "cell_type": "code",
   "execution_count": 122,
   "metadata": {
    "colab": {
     "base_uri": "https://localhost:8080/"
    },
    "id": "0OsjS9iuxOxH",
    "outputId": "8f33ec9a-f626-4509-dd54-e16375baebe9"
   },
   "outputs": [
    {
     "data": {
      "text/plain": [
       "0    68416\n",
       "1     3128\n",
       "Name: label, dtype: int64"
      ]
     },
     "execution_count": 122,
     "metadata": {},
     "output_type": "execute_result"
    }
   ],
   "source": [
    "df['label'].value_counts()"
   ]
  },
  {
   "cell_type": "code",
   "execution_count": 123,
   "metadata": {
    "colab": {
     "base_uri": "https://localhost:8080/"
    },
    "id": "kN1FbuDowM8A",
    "outputId": "944eff1e-6c29-42f7-a486-e786871d7d02"
   },
   "outputs": [
    {
     "data": {
      "text/plain": [
       "0    0.956279\n",
       "1    0.043721\n",
       "Name: label, dtype: float64"
      ]
     },
     "execution_count": 123,
     "metadata": {},
     "output_type": "execute_result"
    }
   ],
   "source": [
    "df['label'].value_counts(normalize=True)"
   ]
  },
  {
   "cell_type": "markdown",
   "metadata": {
    "id": "lGtWYlunCReA"
   },
   "source": [
    "## Splitting the data"
   ]
  },
  {
   "cell_type": "code",
   "execution_count": 124,
   "metadata": {
    "id": "vP4Nwy5eIBaA"
   },
   "outputs": [],
   "source": [
    "# Separate features (X) and target variable (y)\n",
    "X = df.drop(['label','account_id'], axis=1)\n",
    "y = df['label']"
   ]
  },
  {
   "cell_type": "code",
   "execution_count": null,
   "metadata": {
    "id": "T05DKwpOw7GY"
   },
   "outputs": [],
   "source": []
  },
  {
   "cell_type": "code",
   "execution_count": 125,
   "metadata": {
    "id": "776gNRr3Kyit"
   },
   "outputs": [],
   "source": [
    "# print(len(X_train.columns))\n",
    "# print(len(X_val.columns))\n",
    "# print(len(X_test.columns))\n",
    "# print(len(X_test_imbalanced.columns))"
   ]
  },
  {
   "cell_type": "code",
   "execution_count": 126,
   "metadata": {
    "id": "TMY3TEjjLJdW"
   },
   "outputs": [],
   "source": [
    "# print(len(y_train))\n",
    "# print(len(y_val))\n",
    "# print(len(y_test))\n",
    "# print(len(y_test_imbalanced))"
   ]
  },
  {
   "cell_type": "code",
   "execution_count": 127,
   "metadata": {
    "id": "y1NDznUibb2I"
   },
   "outputs": [],
   "source": [
    "# y_train.value_counts()"
   ]
  },
  {
   "cell_type": "code",
   "execution_count": 128,
   "metadata": {
    "id": "b3OfbSfIbgB_"
   },
   "outputs": [],
   "source": [
    "# y_val.value_counts()"
   ]
  },
  {
   "cell_type": "code",
   "execution_count": 129,
   "metadata": {
    "id": "ZrkESd8DbiXm"
   },
   "outputs": [],
   "source": [
    "# y_test.value_counts()"
   ]
  },
  {
   "cell_type": "code",
   "execution_count": 130,
   "metadata": {
    "id": "fmoeKPjjIMi5"
   },
   "outputs": [],
   "source": [
    "# y_test_imbalanced.value_counts()"
   ]
  },
  {
   "cell_type": "markdown",
   "metadata": {
    "id": "vXpix0qfkdut"
   },
   "source": [
    "# Modeling"
   ]
  },
  {
   "cell_type": "markdown",
   "metadata": {
    "id": "X3DOF7HI-4lC"
   },
   "source": [
    "## SMOTE"
   ]
  },
  {
   "cell_type": "code",
   "execution_count": 131,
   "metadata": {
    "colab": {
     "base_uri": "https://localhost:8080/",
     "height": 1000
    },
    "id": "r3s1YRlP-4lD",
    "outputId": "4962aea2-4e2f-47af-dc4d-0e311f8fbbaf",
    "scrolled": false
   },
   "outputs": [
    {
     "name": "stdout",
     "output_type": "stream",
     "text": [
      "68416 3128\n",
      "42926 14309 14309\n",
      "42926 14309 14309\n",
      "Number of examples in the training set:  42926\n",
      "Number of examples in the resampled dataset (label -1): 41037\n",
      "Number of examples in the resampled dataset (label 1): 41037\n",
      "Number of examples in the validation set:  14309\n",
      "Number of examples in the test set:  14309\n",
      "Number of examples in the imbalanced test dataset (label -1): 12878\n",
      "Number of examples in the imbalanced test dataset (label 1): 1430\n",
      "[[11263  1615]\n",
      " [  630   800]]\n",
      "68416 3128\n",
      "42926 14309 14309\n",
      "42926 14309 14309\n",
      "Number of examples in the training set:  42926\n",
      "Number of examples in the resampled dataset (label -1): 41091\n",
      "Number of examples in the resampled dataset (label 1): 41091\n",
      "Number of examples in the validation set:  14309\n",
      "Number of examples in the test set:  14309\n",
      "Number of examples in the imbalanced test dataset (label -1): 12878\n",
      "Number of examples in the imbalanced test dataset (label 1): 1430\n",
      "[[11380  1498]\n",
      " [  646   784]]\n",
      "68416 3128\n",
      "42926 14309 14309\n",
      "42926 14309 14309\n",
      "Number of examples in the training set:  42926\n",
      "Number of examples in the resampled dataset (label -1): 41033\n",
      "Number of examples in the resampled dataset (label 1): 41033\n",
      "Number of examples in the validation set:  14309\n",
      "Number of examples in the test set:  14309\n",
      "Number of examples in the imbalanced test dataset (label -1): 12878\n",
      "Number of examples in the imbalanced test dataset (label 1): 1430\n",
      "[[11214  1664]\n",
      " [  636   794]]\n",
      "68416 3128\n",
      "42926 14309 14309\n",
      "42926 14309 14309\n",
      "Number of examples in the training set:  42926\n",
      "Number of examples in the resampled dataset (label -1): 41062\n",
      "Number of examples in the resampled dataset (label 1): 41062\n",
      "Number of examples in the validation set:  14309\n",
      "Number of examples in the test set:  14309\n",
      "Number of examples in the imbalanced test dataset (label -1): 12878\n",
      "Number of examples in the imbalanced test dataset (label 1): 1430\n",
      "[[11509  1369]\n",
      " [  650   780]]\n",
      "68416 3128\n",
      "42926 14309 14309\n",
      "42926 14309 14309\n",
      "Number of examples in the training set:  42926\n",
      "Number of examples in the resampled dataset (label -1): 41012\n",
      "Number of examples in the resampled dataset (label 1): 41012\n",
      "Number of examples in the validation set:  14309\n",
      "Number of examples in the test set:  14309\n",
      "Number of examples in the imbalanced test dataset (label -1): 12878\n",
      "Number of examples in the imbalanced test dataset (label 1): 1430\n",
      "[[11405  1473]\n",
      " [  652   778]]\n",
      "   Val Accuracy  Val Precision  Val Recall    Val F1   Val AUC  Val Loss  \\\n",
      "0      0.809630       0.096861    0.409385  0.156656  0.618541  6.861619   \n",
      "1      0.816339       0.097374    0.379528  0.154984  0.608076  6.619800   \n",
      "2      0.804599       0.093102    0.387755  0.150152  0.605887  7.042984   \n",
      "3      0.823817       0.109812    0.403374  0.172629  0.623632  6.350273   \n",
      "4      0.812216       0.089683    0.365105  0.143995  0.598769  6.768418   \n",
      "\n",
      "   Val Specificity  Test Accuracy  Test Precision  Test Recall  ...  \\\n",
      "0         0.827697       0.800335        0.092862     0.410628  ...   \n",
      "1         0.836624       0.817807        0.110978     0.422492  ...   \n",
      "2         0.824020       0.806555        0.092412     0.411371  ...   \n",
      "3         0.843890       0.822839        0.101203     0.398693  ...   \n",
      "4         0.832432       0.816549        0.092369     0.386555  ...   \n",
      "\n",
      "   Test Imbalanced Recall  Test Imbalanced F1  Test Imbalanced AUC  \\\n",
      "0                0.559441            0.416125             0.717016   \n",
      "1                0.548252            0.422414             0.715965   \n",
      "2                0.555245            0.408436             0.713016   \n",
      "3                0.545455            0.435876             0.719575   \n",
      "4                0.544056            0.422711             0.714837   \n",
      "\n",
      "   Test Imbalanced Loss  Test Imbalanced Specificity  Training Time  \\\n",
      "0              5.655438                     0.874592       7.464486   \n",
      "1              5.401006                     0.883678       7.304184   \n",
      "2              5.793990                     0.870787       7.326009   \n",
      "3              5.086115                     0.893695       7.284248   \n",
      "4              5.353143                     0.885619       7.758480   \n",
      "\n",
      "   Pred Val Time  Pred Test Time  Pred Test Imbalanced Time  Sampling Time  \n",
      "0       0.162939        0.159816                   0.160404       0.034808  \n",
      "1       0.227129        0.190682                   0.246332       0.016904  \n",
      "2       0.158412        0.156890                   0.164534       0.026025  \n",
      "3       0.151565        0.151484                   0.152178       0.018705  \n",
      "4       0.170531        0.163280                   0.160164       0.016153  \n",
      "\n",
      "[5 rows x 26 columns]\n",
      "      Val Accuracy  Val Precision  Val Recall    Val F1   Val AUC  Val Loss  \\\n",
      "mean       0.81332       0.097366    0.389029  0.155683  0.610981  6.728619   \n",
      "\n",
      "      Val Specificity  Test Accuracy  Test Precision  Test Recall  ...  \\\n",
      "mean         0.832933       0.812817        0.097965     0.405948  ...   \n",
      "\n",
      "      Test Imbalanced Recall  Test Imbalanced F1  Test Imbalanced AUC  \\\n",
      "mean                 0.55049            0.421112             0.716082   \n",
      "\n",
      "      Test Imbalanced Loss  Test Imbalanced Specificity  Training Time  \\\n",
      "mean              5.457938                     0.881674       7.427482   \n",
      "\n",
      "      Pred Val Time  Pred Test Time  Pred Test Imbalanced Time  Sampling Time  \n",
      "mean       0.174115         0.16443                   0.176723       0.022519  \n",
      "\n",
      "[1 rows x 26 columns]\n",
      "\tVal Accuracy\tVal Precision\tVal Recall\tVal F1\tVal AUC\tVal Loss\tVal Specificity\tTest Accuracy\tTest Precision\tTest Recall\tTest F1\tTest AUC\tTest Loss\tTest Specificity\tTest Imbalanced Accuracy\tTest Imbalanced Precision\tTest Imbalanced Recall\tTest Imbalanced F1\tTest Imbalanced AUC\tTest Imbalanced Loss\tTest Imbalanced Specificity\tTraining Time\tPred Val Time\tPred Test Time\tPred Test Imbalanced Time\tSampling Time\n",
      "mean\t0.8133202879306729\t0.09736623546243883\t0.3890294031141843\t0.15568319266521793\t0.6109810200759942\t6.728618836607012\t0.8329326370378043\t0.8128171081137747\t0.09796488159412224\t0.40594781806078534\t0.15774210315978882\t0.6185402828672382\t6.746755275519699\t0.8311327476736909\t0.8485742242102321\t0.34128635127129725\t0.5504895104895106\t0.42111240146490514\t0.7160818417488708\t5.457938176744564\t0.8816741730082309\t7.4274815082550045\t0.17411513328552247\t0.16443047523498536\t0.17672257423400878\t0.02251906394958496\n",
      "\n"
     ]
    }
   ],
   "source": [
    "# Define the model\n",
    "rf = RandomForestClassifier(\n",
    "    random_state=42\n",
    "    )\n",
    "\n",
    "smote = SMOTE()\n",
    "\n",
    "print(run_iterations(rf, smote, X, y))"
   ]
  },
  {
   "cell_type": "markdown",
   "metadata": {
    "id": "X3DOF7HI-4lC"
   },
   "source": [
    "## ADASYN"
   ]
  },
  {
   "cell_type": "code",
   "execution_count": null,
   "metadata": {},
   "outputs": [],
   "source": []
  },
  {
   "cell_type": "code",
   "execution_count": 132,
   "metadata": {
    "colab": {
     "base_uri": "https://localhost:8080/",
     "height": 1000
    },
    "id": "r3s1YRlP-4lD",
    "outputId": "4962aea2-4e2f-47af-dc4d-0e311f8fbbaf",
    "scrolled": true
   },
   "outputs": [
    {
     "name": "stdout",
     "output_type": "stream",
     "text": [
      "68416 3128\n",
      "42926 14309 14309\n",
      "42926 14309 14309\n",
      "Number of examples in the training set:  42926\n",
      "Number of examples in the resampled dataset (label -1): 41037\n",
      "Number of examples in the resampled dataset (label 1): 41779\n",
      "Number of examples in the validation set:  14309\n",
      "Number of examples in the test set:  14309\n",
      "Number of examples in the imbalanced test dataset (label -1): 12878\n",
      "Number of examples in the imbalanced test dataset (label 1): 1430\n",
      "[[10832  2046]\n",
      " [  601   829]]\n",
      "68416 3128\n",
      "42926 14309 14309\n",
      "42926 14309 14309\n",
      "Number of examples in the training set:  42926\n",
      "Number of examples in the resampled dataset (label -1): 41091\n",
      "Number of examples in the resampled dataset (label 1): 40335\n",
      "Number of examples in the validation set:  14309\n",
      "Number of examples in the test set:  14309\n",
      "Number of examples in the imbalanced test dataset (label -1): 12878\n",
      "Number of examples in the imbalanced test dataset (label 1): 1430\n",
      "[[11060  1818]\n",
      " [  616   814]]\n",
      "68416 3128\n",
      "42926 14309 14309\n",
      "42926 14309 14309\n",
      "Number of examples in the training set:  42926\n",
      "Number of examples in the resampled dataset (label -1): 41033\n",
      "Number of examples in the resampled dataset (label 1): 41203\n",
      "Number of examples in the validation set:  14309\n",
      "Number of examples in the test set:  14309\n",
      "Number of examples in the imbalanced test dataset (label -1): 12878\n",
      "Number of examples in the imbalanced test dataset (label 1): 1430\n",
      "[[10931  1947]\n",
      " [  595   835]]\n",
      "68416 3128\n",
      "42926 14309 14309\n",
      "42926 14309 14309\n",
      "Number of examples in the training set:  42926\n",
      "Number of examples in the resampled dataset (label -1): 41062\n",
      "Number of examples in the resampled dataset (label 1): 40984\n",
      "Number of examples in the validation set:  14309\n",
      "Number of examples in the test set:  14309\n",
      "Number of examples in the imbalanced test dataset (label -1): 12878\n",
      "Number of examples in the imbalanced test dataset (label 1): 1430\n",
      "[[11118  1760]\n",
      " [  598   832]]\n",
      "68416 3128\n",
      "42926 14309 14309\n",
      "42926 14309 14309\n",
      "Number of examples in the training set:  42926\n",
      "Number of examples in the resampled dataset (label -1): 41012\n",
      "Number of examples in the resampled dataset (label 1): 41359\n",
      "Number of examples in the validation set:  14309\n",
      "Number of examples in the test set:  14309\n",
      "Number of examples in the imbalanced test dataset (label -1): 12878\n",
      "Number of examples in the imbalanced test dataset (label 1): 1430\n",
      "[[11058  1820]\n",
      " [  622   808]]\n",
      "   Val Accuracy  Val Precision  Val Recall    Val F1   Val AUC  Val Loss  \\\n",
      "0      0.779579       0.086432    0.428803  0.143865  0.612108  7.944768   \n",
      "1      0.783982       0.087088    0.407874  0.143530  0.604661  7.786074   \n",
      "2      0.783912       0.088777    0.416013  0.146328  0.608533  7.788593   \n",
      "3      0.789433       0.096410    0.432515  0.157674  0.619494  7.589596   \n",
      "4      0.785589       0.082794    0.392569  0.136747  0.597964  7.728138   \n",
      "\n",
      "   Val Specificity  Test Accuracy  Test Precision  Test Recall  ...  \\\n",
      "0         0.795413       0.771472        0.084666     0.434783  ...   \n",
      "1         0.801448       0.791390        0.100584     0.445289  ...   \n",
      "2         0.801053       0.782654        0.085752     0.434783  ...   \n",
      "3         0.806473       0.788944        0.091588     0.441176  ...   \n",
      "4         0.803360       0.790691        0.084775     0.411765  ...   \n",
      "\n",
      "   Test Imbalanced Recall  Test Imbalanced F1  Test Imbalanced AUC  \\\n",
      "0                0.579720            0.385134             0.710422   \n",
      "1                0.569231            0.400788             0.714030   \n",
      "2                0.583916            0.396486             0.716364   \n",
      "3                0.581818            0.413725             0.722575   \n",
      "4                0.565035            0.398226             0.711854   \n",
      "\n",
      "   Test Imbalanced Loss  Test Imbalanced Specificity  Training Time  \\\n",
      "0              6.668126                     0.841124       7.546552   \n",
      "1              6.131552                     0.858829       7.450591   \n",
      "2              6.403618                     0.848812       7.523365   \n",
      "3              5.940099                     0.863333       7.526245   \n",
      "4              6.151705                     0.858674       7.700711   \n",
      "\n",
      "   Pred Val Time  Pred Test Time  Pred Test Imbalanced Time  Sampling Time  \n",
      "0       0.159344        0.159133                   0.160730       0.058598  \n",
      "1       0.170798        0.152294                   0.243288       0.044146  \n",
      "2       0.175254        0.161952                   0.167655       0.065172  \n",
      "3       0.364238        0.171394                   0.185110       0.052929  \n",
      "4       0.287200        0.167067                   0.384749       0.096901  \n",
      "\n",
      "[5 rows x 26 columns]\n",
      "      Val Accuracy  Val Precision  Val Recall    Val F1   Val AUC  Val Loss  \\\n",
      "mean      0.784499         0.0883    0.415555  0.145629  0.608552  7.767434   \n",
      "\n",
      "      Val Specificity  Test Accuracy  Test Precision  Test Recall  ...  \\\n",
      "mean         0.801549        0.78503        0.089473     0.433559  ...   \n",
      "\n",
      "      Test Imbalanced Recall  Test Imbalanced F1  Test Imbalanced AUC  \\\n",
      "mean                0.575944            0.398872             0.715049   \n",
      "\n",
      "      Test Imbalanced Loss  Test Imbalanced Specificity  Training Time  \\\n",
      "mean               6.25902                     0.854154       7.549493   \n",
      "\n",
      "      Pred Val Time  Pred Test Time  Pred Test Imbalanced Time  Sampling Time  \n",
      "mean       0.231367        0.162368                   0.228306       0.063549  \n",
      "\n",
      "[1 rows x 26 columns]\n",
      "\tVal Accuracy\tVal Precision\tVal Recall\tVal F1\tVal AUC\tVal Loss\tVal Specificity\tTest Accuracy\tTest Precision\tTest Recall\tTest F1\tTest AUC\tTest Loss\tTest Specificity\tTest Imbalanced Accuracy\tTest Imbalanced Precision\tTest Imbalanced Recall\tTest Imbalanced F1\tTest Imbalanced AUC\tTest Imbalanced Loss\tTest Imbalanced Specificity\tTraining Time\tPred Val Time\tPred Test Time\tPred Test Imbalanced Time\tSampling Time\n",
      "mean\t0.7844992661961003\t0.08830025456162907\t0.41555463203308707\t0.1456289557036491\t0.6085520444183781\t7.767433754328161\t0.8015494568036692\t0.7850304004472709\t0.08947284253366865\t0.4335590295322569\t0.14827412797753536\t0.6172056027032762\t7.748289735475879\t0.8008521758742955\t0.8263488957226727\t0.3052415843304087\t0.575944055944056\t0.39887156536659635\t0.7150492138704594\t6.259020213209427\t0.8541543717968629\t7.5494927883148195\t0.23136672973632813\t0.16236796379089355\t0.22830638885498047\t0.06354913711547852\n",
      "\n"
     ]
    }
   ],
   "source": [
    "# Define the model\n",
    "rf = RandomForestClassifier(\n",
    "    random_state=42\n",
    "    )\n",
    "\n",
    "adasyn = ADASYN()\n",
    "\n",
    "print(run_iterations(rf, adasyn, X, y))"
   ]
  },
  {
   "cell_type": "markdown",
   "metadata": {},
   "source": [
    "## ROS"
   ]
  },
  {
   "cell_type": "code",
   "execution_count": 133,
   "metadata": {
    "colab": {
     "base_uri": "https://localhost:8080/",
     "height": 1000
    },
    "id": "r3s1YRlP-4lD",
    "outputId": "4962aea2-4e2f-47af-dc4d-0e311f8fbbaf",
    "scrolled": false
   },
   "outputs": [
    {
     "name": "stdout",
     "output_type": "stream",
     "text": [
      "68416 3128\n",
      "42926 14309 14309\n",
      "42926 14309 14309\n",
      "Number of examples in the training set:  42926\n",
      "Number of examples in the resampled dataset (label -1): 41037\n",
      "Number of examples in the resampled dataset (label 1): 41037\n",
      "Number of examples in the validation set:  14309\n",
      "Number of examples in the test set:  14309\n",
      "Number of examples in the imbalanced test dataset (label -1): 12878\n",
      "Number of examples in the imbalanced test dataset (label 1): 1430\n",
      "[[12014   864]\n",
      " [  655   775]]\n",
      "68416 3128\n",
      "42926 14309 14309\n",
      "42926 14309 14309\n",
      "Number of examples in the training set:  42926\n",
      "Number of examples in the resampled dataset (label -1): 41091\n",
      "Number of examples in the resampled dataset (label 1): 41091\n",
      "Number of examples in the validation set:  14309\n",
      "Number of examples in the test set:  14309\n",
      "Number of examples in the imbalanced test dataset (label -1): 12878\n",
      "Number of examples in the imbalanced test dataset (label 1): 1430\n",
      "[[12118   760]\n",
      " [  694   736]]\n",
      "68416 3128\n",
      "42926 14309 14309\n",
      "42926 14309 14309\n",
      "Number of examples in the training set:  42926\n",
      "Number of examples in the resampled dataset (label -1): 41033\n",
      "Number of examples in the resampled dataset (label 1): 41033\n",
      "Number of examples in the validation set:  14309\n",
      "Number of examples in the test set:  14309\n",
      "Number of examples in the imbalanced test dataset (label -1): 12878\n",
      "Number of examples in the imbalanced test dataset (label 1): 1430\n",
      "[[12103   775]\n",
      " [  705   725]]\n",
      "68416 3128\n",
      "42926 14309 14309\n",
      "42926 14309 14309\n",
      "Number of examples in the training set:  42926\n",
      "Number of examples in the resampled dataset (label -1): 41062\n",
      "Number of examples in the resampled dataset (label 1): 41062\n",
      "Number of examples in the validation set:  14309\n",
      "Number of examples in the test set:  14309\n",
      "Number of examples in the imbalanced test dataset (label -1): 12878\n",
      "Number of examples in the imbalanced test dataset (label 1): 1430\n",
      "[[12181   697]\n",
      " [  665   765]]\n",
      "68416 3128\n",
      "42926 14309 14309\n",
      "42926 14309 14309\n",
      "Number of examples in the training set:  42926\n",
      "Number of examples in the resampled dataset (label -1): 41012\n",
      "Number of examples in the resampled dataset (label 1): 41012\n",
      "Number of examples in the validation set:  14309\n",
      "Number of examples in the test set:  14309\n",
      "Number of examples in the imbalanced test dataset (label -1): 12878\n",
      "Number of examples in the imbalanced test dataset (label 1): 1430\n",
      "[[12083   795]\n",
      " [  687   743]]\n",
      "   Val Accuracy  Val Precision  Val Recall    Val F1   Val AUC  Val Loss  \\\n",
      "0      0.894682       0.094804    0.168285  0.121283  0.547878  3.796057   \n",
      "1      0.893284       0.108772    0.195276  0.139718  0.560487  3.846436   \n",
      "2      0.892515       0.096688    0.169545  0.123147  0.547872  3.874145   \n",
      "3      0.894752       0.116007    0.197853  0.146259  0.562938  3.793538   \n",
      "4      0.897547       0.110396    0.193861  0.140680  0.561613  3.692780   \n",
      "\n",
      "   Val Specificity  Test Accuracy  Test Precision  Test Recall  ...  \\\n",
      "0         0.927471       0.892375        0.104220     0.194847  ...   \n",
      "1         0.925698       0.893494        0.111311     0.188450  ...   \n",
      "2         0.926200       0.894542        0.106989     0.207358  ...   \n",
      "3         0.928022       0.902928        0.123181     0.207516  ...   \n",
      "4         0.929364       0.898735        0.097170     0.173109  ...   \n",
      "\n",
      "   Test Imbalanced Recall  Test Imbalanced F1  Test Imbalanced AUC  \\\n",
      "0                0.541958            0.505051             0.737433   \n",
      "1                0.514685            0.503076             0.727835   \n",
      "2                0.506993            0.494881             0.723406   \n",
      "3                0.534965            0.529046             0.740421   \n",
      "4                0.519580            0.500674             0.728924   \n",
      "\n",
      "   Test Imbalanced Loss  Test Imbalanced Specificity  Training Time  \\\n",
      "0              3.826552                     0.932909       7.815267   \n",
      "1              3.662809                     0.940985       7.611318   \n",
      "2              3.728306                     0.939820       7.710096   \n",
      "3              3.431049                     0.945877       7.003986   \n",
      "4              3.733345                     0.938267       7.151179   \n",
      "\n",
      "   Pred Val Time  Pred Test Time  Pred Test Imbalanced Time  Sampling Time  \n",
      "0       0.160962        0.154873                   0.156806       0.012347  \n",
      "1       0.176552        0.154085                   0.157032       0.010377  \n",
      "2       0.155244        0.154289                   0.157485       0.008022  \n",
      "3       0.154432        0.148482                   0.150353       0.007936  \n",
      "4       0.280094        0.158214                   0.154736       0.008984  \n",
      "\n",
      "[5 rows x 26 columns]\n",
      "      Val Accuracy  Val Precision  Val Recall    Val F1   Val AUC  Val Loss  \\\n",
      "mean      0.894556       0.105333    0.184964  0.134217  0.556157  3.800592   \n",
      "\n",
      "      Val Specificity  Test Accuracy  Test Precision  Test Recall  ...  \\\n",
      "mean         0.927351       0.896415        0.108574     0.194256  ...   \n",
      "\n",
      "      Test Imbalanced Recall  Test Imbalanced F1  Test Imbalanced AUC  \\\n",
      "mean                0.523636            0.506545             0.731604   \n",
      "\n",
      "      Test Imbalanced Loss  Test Imbalanced Specificity  Training Time  \\\n",
      "mean              3.676412                     0.939571       7.458369   \n",
      "\n",
      "      Pred Val Time  Pred Test Time  Pred Test Imbalanced Time  Sampling Time  \n",
      "mean       0.185457        0.153989                   0.155283       0.009533  \n",
      "\n",
      "[1 rows x 26 columns]\n",
      "\tVal Accuracy\tVal Precision\tVal Recall\tVal F1\tVal AUC\tVal Loss\tVal Specificity\tTest Accuracy\tTest Precision\tTest Recall\tTest F1\tTest AUC\tTest Loss\tTest Specificity\tTest Imbalanced Accuracy\tTest Imbalanced Precision\tTest Imbalanced Recall\tTest Imbalanced F1\tTest Imbalanced AUC\tTest Imbalanced Loss\tTest Imbalanced Specificity\tTraining Time\tPred Val Time\tPred Test Time\tPred Test Imbalanced Time\tSampling Time\n",
      "mean\t0.8945558739255015\t0.10533325502763395\t0.1849637896281134\t0.13421733151226728\t0.5561574246170735\t3.800591532147597\t0.9273510596060334\t0.8964148438045985\t0.10857421281745601\t0.19425606241136525\t0.13919471221114949\t0.5611509799658772\t3.733587466164613\t0.9280458975203889\t0.8980011182555213\t0.4909023967487376\t0.5236363636363637\t0.5065452840446961\t0.7316038628245491\t3.6764123396755366\t0.9395713620127347\t7.458369350433349\t0.1854567050933838\t0.1539886474609375\t0.15528254508972167\t0.009533262252807618\n",
      "\n"
     ]
    }
   ],
   "source": [
    "# Define the model\n",
    "rf = RandomForestClassifier(\n",
    "    random_state=42\n",
    "    )\n",
    "\n",
    "ros = RandomOverSampler()\n",
    "\n",
    "print(run_iterations(rf, ros, X, y))"
   ]
  },
  {
   "cell_type": "markdown",
   "metadata": {},
   "source": [
    "## RUS"
   ]
  },
  {
   "cell_type": "code",
   "execution_count": 134,
   "metadata": {
    "colab": {
     "base_uri": "https://localhost:8080/",
     "height": 1000
    },
    "id": "r3s1YRlP-4lD",
    "outputId": "4962aea2-4e2f-47af-dc4d-0e311f8fbbaf"
   },
   "outputs": [
    {
     "name": "stdout",
     "output_type": "stream",
     "text": [
      "68416 3128\n",
      "42926 14309 14309\n",
      "42926 14309 14309\n",
      "Number of examples in the training set:  42926\n",
      "Number of examples in the resampled dataset (label -1): 1889\n",
      "Number of examples in the resampled dataset (label 1): 1889\n",
      "Number of examples in the validation set:  14309\n",
      "Number of examples in the test set:  14309\n",
      "Number of examples in the imbalanced test dataset (label -1): 12878\n",
      "Number of examples in the imbalanced test dataset (label 1): 1430\n",
      "[[8037 4841]\n",
      " [ 336 1094]]\n",
      "68416 3128\n",
      "42926 14309 14309\n",
      "42926 14309 14309\n",
      "Number of examples in the training set:  42926\n",
      "Number of examples in the resampled dataset (label -1): 1835\n",
      "Number of examples in the resampled dataset (label 1): 1835\n",
      "Number of examples in the validation set:  14309\n",
      "Number of examples in the test set:  14309\n",
      "Number of examples in the imbalanced test dataset (label -1): 12878\n",
      "Number of examples in the imbalanced test dataset (label 1): 1430\n",
      "[[8020 4858]\n",
      " [ 350 1080]]\n",
      "68416 3128\n",
      "42926 14309 14309\n",
      "42926 14309 14309\n",
      "Number of examples in the training set:  42926\n",
      "Number of examples in the resampled dataset (label -1): 1893\n",
      "Number of examples in the resampled dataset (label 1): 1893\n",
      "Number of examples in the validation set:  14309\n",
      "Number of examples in the test set:  14309\n",
      "Number of examples in the imbalanced test dataset (label -1): 12878\n",
      "Number of examples in the imbalanced test dataset (label 1): 1430\n",
      "[[8124 4754]\n",
      " [ 339 1091]]\n",
      "68416 3128\n",
      "42926 14309 14309\n",
      "42926 14309 14309\n",
      "Number of examples in the training set:  42926\n",
      "Number of examples in the resampled dataset (label -1): 1864\n",
      "Number of examples in the resampled dataset (label 1): 1864\n",
      "Number of examples in the validation set:  14309\n",
      "Number of examples in the test set:  14309\n",
      "Number of examples in the imbalanced test dataset (label -1): 12878\n",
      "Number of examples in the imbalanced test dataset (label 1): 1430\n",
      "[[8317 4561]\n",
      " [ 349 1081]]\n",
      "68416 3128\n",
      "42926 14309 14309\n",
      "42926 14309 14309\n",
      "Number of examples in the training set:  42926\n",
      "Number of examples in the resampled dataset (label -1): 1914\n",
      "Number of examples in the resampled dataset (label 1): 1914\n",
      "Number of examples in the validation set:  14309\n",
      "Number of examples in the test set:  14309\n",
      "Number of examples in the imbalanced test dataset (label -1): 12878\n",
      "Number of examples in the imbalanced test dataset (label 1): 1430\n",
      "[[8170 4708]\n",
      " [ 331 1099]]\n",
      "   Val Accuracy  Val Precision  Val Recall    Val F1   Val AUC   Val Loss  \\\n",
      "0      0.613809       0.067501    0.619741  0.121742  0.616641  13.919717   \n",
      "1      0.615976       0.067462    0.596850  0.121222  0.606857  13.841629   \n",
      "2      0.625341       0.067874    0.582418  0.121580  0.604879  13.504090   \n",
      "3      0.626808       0.067528    0.561350  0.120553  0.595642  13.451192   \n",
      "4      0.620798       0.068414    0.615509  0.123142  0.618273  13.667822   \n",
      "\n",
      "   Val Specificity  Test Accuracy  Test Precision  Test Recall  ...  \\\n",
      "0         0.613542       0.613111        0.065275     0.594203  ...   \n",
      "1         0.616864       0.611014        0.067806     0.585106  ...   \n",
      "2         0.627341       0.622615        0.063772     0.586957  ...   \n",
      "3         0.629933       0.632749        0.068093     0.598039  ...   \n",
      "4         0.621037       0.627647        0.063135     0.574790  ...   \n",
      "\n",
      "   Test Imbalanced Recall  Test Imbalanced F1  Test Imbalanced AUC  \\\n",
      "0                0.765035            0.297081             0.694561   \n",
      "1                0.755245            0.293160             0.689006   \n",
      "2                0.762937            0.299931             0.696890   \n",
      "3                0.755944            0.305713             0.700887   \n",
      "4                0.768531            0.303717             0.701473   \n",
      "\n",
      "   Test Imbalanced Loss  Test Imbalanced Specificity  Training Time  \\\n",
      "0             13.041515                     0.624088       0.458122   \n",
      "1             13.119608                     0.622768       0.416746   \n",
      "2             12.829908                     0.630843       0.437972   \n",
      "3             12.368908                     0.645830       0.429165   \n",
      "4             12.693875                     0.634415       0.413839   \n",
      "\n",
      "   Pred Val Time  Pred Test Time  Pred Test Imbalanced Time  Sampling Time  \n",
      "0       0.172095        0.168932                   0.164391       0.007400  \n",
      "1       0.163574        0.163913                   0.162658       0.006596  \n",
      "2       0.165268        0.164543                   0.163384       0.006625  \n",
      "3       0.163554        0.162305                   0.161265       0.006597  \n",
      "4       0.162592        0.162560                   0.162589       0.006815  \n",
      "\n",
      "[5 rows x 26 columns]\n",
      "      Val Accuracy  Val Precision  Val Recall    Val F1   Val AUC  Val Loss  \\\n",
      "mean      0.620547       0.067756    0.595174  0.121648  0.608458  13.67689   \n",
      "\n",
      "      Val Specificity  Test Accuracy  Test Precision  Test Recall  ...  \\\n",
      "mean         0.621743       0.621427        0.065616     0.587819  ...   \n",
      "\n",
      "      Test Imbalanced Recall  Test Imbalanced F1  Test Imbalanced AUC  \\\n",
      "mean                0.761538             0.29992             0.696564   \n",
      "\n",
      "      Test Imbalanced Loss  Test Imbalanced Specificity  Training Time  \\\n",
      "mean             12.810763                     0.631589       0.431169   \n",
      "\n",
      "      Pred Val Time  Pred Test Time  Pred Test Imbalanced Time  Sampling Time  \n",
      "mean       0.165417        0.164451                   0.162857       0.006807  \n",
      "\n",
      "[1 rows x 26 columns]\n",
      "\tVal Accuracy\tVal Precision\tVal Recall\tVal F1\tVal AUC\tVal Loss\tVal Specificity\tTest Accuracy\tTest Precision\tTest Recall\tTest F1\tTest AUC\tTest Loss\tTest Specificity\tTest Imbalanced Accuracy\tTest Imbalanced Precision\tTest Imbalanced Recall\tTest Imbalanced F1\tTest Imbalanced AUC\tTest Imbalanced Loss\tTest Imbalanced Specificity\tTraining Time\tPred Val Time\tPred Test Time\tPred Test Imbalanced Time\tSampling Time\n",
      "mean\t0.6205465091900203\t0.06775577093925485\t0.5951735309984795\t0.12164763660819486\t0.6084584690436696\t13.67689010004546\t0.6217434070888599\t0.6214270738695926\t0.0656160084872775\t0.587818986984248\t0.118047539050865\t0.6053736275195736\t13.645151331948256\t0.6229282680548993\t0.6445764607212748\t0.18674359959155057\t0.7615384615384616\t0.29992026952012474\t0.6965636087782383\t12.810762856095636\t0.6315887560180152\t0.431168794631958\t0.16541662216186523\t0.16445069313049315\t0.16285743713378906\t0.006806707382202149\n",
      "\n"
     ]
    }
   ],
   "source": [
    "# Define the model\n",
    "rf = RandomForestClassifier(\n",
    "    random_state=42\n",
    "    )\n",
    "\n",
    "rus = RandomUnderSampler()\n",
    "\n",
    "print(run_iterations(rf, rus, X, y))"
   ]
  },
  {
   "cell_type": "markdown",
   "metadata": {},
   "source": [
    "## SMOTEENN"
   ]
  },
  {
   "cell_type": "code",
   "execution_count": 135,
   "metadata": {
    "colab": {
     "base_uri": "https://localhost:8080/",
     "height": 1000
    },
    "id": "r3s1YRlP-4lD",
    "outputId": "4962aea2-4e2f-47af-dc4d-0e311f8fbbaf",
    "scrolled": false
   },
   "outputs": [
    {
     "name": "stdout",
     "output_type": "stream",
     "text": [
      "68416 3128\n",
      "42926 14309 14309\n",
      "42926 14309 14309\n",
      "Number of examples in the training set:  42926\n",
      "Number of examples in the resampled dataset (label -1): 17899\n",
      "Number of examples in the resampled dataset (label 1): 18399\n",
      "Number of examples in the validation set:  14309\n",
      "Number of examples in the test set:  14309\n",
      "Number of examples in the imbalanced test dataset (label -1): 12878\n",
      "Number of examples in the imbalanced test dataset (label 1): 1430\n",
      "[[10128  2750]\n",
      " [  568   862]]\n",
      "68416 3128\n",
      "42926 14309 14309\n",
      "42926 14309 14309\n",
      "Number of examples in the training set:  42926\n",
      "Number of examples in the resampled dataset (label -1): 17856\n",
      "Number of examples in the resampled dataset (label 1): 18940\n",
      "Number of examples in the validation set:  14309\n",
      "Number of examples in the test set:  14309\n",
      "Number of examples in the imbalanced test dataset (label -1): 12878\n",
      "Number of examples in the imbalanced test dataset (label 1): 1430\n",
      "[[10229  2649]\n",
      " [  562   868]]\n",
      "68416 3128\n",
      "42926 14309 14309\n",
      "42926 14309 14309\n",
      "Number of examples in the training set:  42926\n",
      "Number of examples in the resampled dataset (label -1): 17983\n",
      "Number of examples in the resampled dataset (label 1): 18959\n",
      "Number of examples in the validation set:  14309\n",
      "Number of examples in the test set:  14309\n",
      "Number of examples in the imbalanced test dataset (label -1): 12878\n",
      "Number of examples in the imbalanced test dataset (label 1): 1430\n",
      "[[10295  2583]\n",
      " [  581   849]]\n",
      "68416 3128\n",
      "42926 14309 14309\n",
      "42926 14309 14309\n",
      "Number of examples in the training set:  42926\n",
      "Number of examples in the resampled dataset (label -1): 18409\n",
      "Number of examples in the resampled dataset (label 1): 18851\n",
      "Number of examples in the validation set:  14309\n",
      "Number of examples in the test set:  14309\n",
      "Number of examples in the imbalanced test dataset (label -1): 12878\n",
      "Number of examples in the imbalanced test dataset (label 1): 1430\n",
      "[[10315  2563]\n",
      " [  556   874]]\n",
      "68416 3128\n",
      "42926 14309 14309\n",
      "42926 14309 14309\n",
      "Number of examples in the training set:  42926\n",
      "Number of examples in the resampled dataset (label -1): 17862\n",
      "Number of examples in the resampled dataset (label 1): 18943\n",
      "Number of examples in the validation set:  14309\n",
      "Number of examples in the test set:  14309\n",
      "Number of examples in the imbalanced test dataset (label -1): 12878\n",
      "Number of examples in the imbalanced test dataset (label 1): 1430\n",
      "[[10293  2585]\n",
      " [  580   850]]\n",
      "   Val Accuracy  Val Precision  Val Recall    Val F1   Val AUC  Val Loss  \\\n",
      "0      0.757705       0.086742    0.483819  0.147109  0.626943  8.733199   \n",
      "1      0.767838       0.089520    0.461417  0.149949  0.621743  8.367951   \n",
      "2      0.770424       0.091358    0.464678  0.152695  0.624674  8.274750   \n",
      "3      0.763156       0.090392    0.463190  0.151265  0.620333  8.536721   \n",
      "4      0.771123       0.083960    0.432956  0.140645  0.609685  8.249561   \n",
      "\n",
      "   Val Specificity  Test Accuracy  Test Precision  Test Recall  ...  \\\n",
      "0         0.770068       0.758683        0.089089     0.494364  ...   \n",
      "1         0.782068       0.769166        0.100574     0.506079  ...   \n",
      "2         0.784669       0.772381        0.091300     0.496656  ...   \n",
      "3         0.777477       0.767209        0.091619     0.498366  ...   \n",
      "4         0.786413       0.772241        0.086078     0.465546  ...   \n",
      "\n",
      "   Test Imbalanced Recall  Test Imbalanced F1  Test Imbalanced AUC  \\\n",
      "0                0.602797            0.341928             0.694627   \n",
      "1                0.606993            0.350920             0.700647   \n",
      "2                0.593706            0.349239             0.696566   \n",
      "3                0.611189            0.359153             0.706084   \n",
      "4                0.594406            0.349435             0.696838   \n",
      "\n",
      "   Test Imbalanced Loss  Test Imbalanced Specificity  Training Time  \\\n",
      "0              8.358460                     0.786458       3.030777   \n",
      "1              8.088913                     0.794300       2.793412   \n",
      "2              7.970514                     0.799425       3.120033   \n",
      "3              7.857154                     0.800978       2.861717   \n",
      "4              7.973033                     0.799270       2.784360   \n",
      "\n",
      "   Pred Val Time  Pred Test Time  Pred Test Imbalanced Time  Sampling Time  \n",
      "0       0.164815        0.148390                   0.147547       0.632476  \n",
      "1       0.144416        0.141313                   0.141730       0.658936  \n",
      "2       0.160794        0.150956                   0.151887       0.983811  \n",
      "3       0.150147        0.142847                   0.142001       0.746867  \n",
      "4       0.149279        0.148604                   0.149231       0.726864  \n",
      "\n",
      "[5 rows x 26 columns]\n",
      "      Val Accuracy  Val Precision  Val Recall    Val F1   Val AUC  Val Loss  \\\n",
      "mean      0.766049       0.088394    0.461212  0.148333  0.620676  8.432437   \n",
      "\n",
      "      Val Specificity  Test Accuracy  Test Precision  Test Recall  ...  \\\n",
      "mean         0.780139       0.767936        0.091732     0.492202  ...   \n",
      "\n",
      "      Test Imbalanced Recall  Test Imbalanced F1  Test Imbalanced AUC  \\\n",
      "mean                0.601818            0.350135             0.698952   \n",
      "\n",
      "      Test Imbalanced Loss  Test Imbalanced Specificity  Training Time  \\\n",
      "mean              8.049615                     0.796086        2.91806   \n",
      "\n",
      "      Pred Val Time  Pred Test Time  Pred Test Imbalanced Time  Sampling Time  \n",
      "mean        0.15389        0.146422                   0.146479       0.749791  \n",
      "\n",
      "[1 rows x 26 columns]\n",
      "\tVal Accuracy\tVal Precision\tVal Recall\tVal F1\tVal AUC\tVal Loss\tVal Specificity\tTest Accuracy\tTest Precision\tTest Recall\tTest F1\tTest AUC\tTest Loss\tTest Specificity\tTest Imbalanced Accuracy\tTest Imbalanced Precision\tTest Imbalanced Recall\tTest Imbalanced F1\tTest Imbalanced AUC\tTest Imbalanced Loss\tTest Imbalanced Specificity\tTraining Time\tPred Val Time\tPred Test Time\tPred Test Imbalanced Time\tSampling Time\n",
      "mean\t0.7660493395764904\t0.08839448698824441\t0.4612121674668506\t0.14833277803342784\t0.6206756513343858\t8.432436514460031\t0.7801391352019212\t0.7679362638898595\t0.0917320791723343\t0.49220214129122003\t0.15461856130296586\t0.6362709257719092\t8.364424868537453\t0.7803397102525986\t0.7766703941850712\t0.24691440951532445\t0.6018181818181818\t0.3501349545257999\t0.6989522653150545\t8.049614903521453\t0.7960863488119273\t2.9180596828460694\t0.15389032363891603\t0.14642200469970704\t0.1464792251586914\t0.7497906684875488\n",
      "\n"
     ]
    }
   ],
   "source": [
    "# Define the model\n",
    "rf = RandomForestClassifier(\n",
    "    random_state=42\n",
    "    )\n",
    "\n",
    "smoteenn = SMOTEENN()\n",
    "\n",
    "print(run_iterations(rf, smoteenn, X, y))"
   ]
  },
  {
   "cell_type": "code",
   "execution_count": null,
   "metadata": {},
   "outputs": [],
   "source": []
  },
  {
   "cell_type": "code",
   "execution_count": null,
   "metadata": {},
   "outputs": [],
   "source": []
  },
  {
   "cell_type": "code",
   "execution_count": null,
   "metadata": {},
   "outputs": [],
   "source": []
  }
 ],
 "metadata": {
  "colab": {
   "provenance": [],
   "toc_visible": true
  },
  "kernelspec": {
   "display_name": "Python 3 (ipykernel)",
   "language": "python",
   "name": "python3"
  },
  "language_info": {
   "codemirror_mode": {
    "name": "ipython",
    "version": 3
   },
   "file_extension": ".py",
   "mimetype": "text/x-python",
   "name": "python",
   "nbconvert_exporter": "python",
   "pygments_lexer": "ipython3",
   "version": "3.9.7"
  }
 },
 "nbformat": 4,
 "nbformat_minor": 1
}
